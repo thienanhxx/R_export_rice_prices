{
 "cells": [
  {
   "cell_type": "code",
   "execution_count": 1,
   "id": "56f81ef6-d588-4255-b171-5701190f4914",
   "metadata": {},
   "outputs": [],
   "source": [
    "# Đọc dữ liệu từ tập tin.\n",
    "export <- read.csv('Dataset/Export_rice_prices_5percent_broken_vn.csv')"
   ]
  },
  {
   "cell_type": "code",
   "execution_count": 2,
   "id": "ad71fa1a-962b-48fe-bb32-33b2f512b31a",
   "metadata": {},
   "outputs": [
    {
     "data": {
      "text/html": [
       "<table class=\"dataframe\">\n",
       "<caption>A data.frame: 6 × 2</caption>\n",
       "<thead>\n",
       "\t<tr><th></th><th scope=col>date</th><th scope=col>price</th></tr>\n",
       "\t<tr><th></th><th scope=col>&lt;chr&gt;</th><th scope=col>&lt;dbl&gt;</th></tr>\n",
       "</thead>\n",
       "<tbody>\n",
       "\t<tr><th scope=row>1</th><td>1/1/2004</td><td>198.82</td></tr>\n",
       "\t<tr><th scope=row>2</th><td>2/1/2004</td><td>204.07</td></tr>\n",
       "\t<tr><th scope=row>3</th><td>3/1/2004</td><td>225.80</td></tr>\n",
       "\t<tr><th scope=row>4</th><td>4/1/2004</td><td>240.71</td></tr>\n",
       "\t<tr><th scope=row>5</th><td>5/1/2004</td><td>236.14</td></tr>\n",
       "\t<tr><th scope=row>6</th><td>6/1/2004</td><td>230.74</td></tr>\n",
       "</tbody>\n",
       "</table>\n"
      ],
      "text/latex": [
       "A data.frame: 6 × 2\n",
       "\\begin{tabular}{r|ll}\n",
       "  & date & price\\\\\n",
       "  & <chr> & <dbl>\\\\\n",
       "\\hline\n",
       "\t1 & 1/1/2004 & 198.82\\\\\n",
       "\t2 & 2/1/2004 & 204.07\\\\\n",
       "\t3 & 3/1/2004 & 225.80\\\\\n",
       "\t4 & 4/1/2004 & 240.71\\\\\n",
       "\t5 & 5/1/2004 & 236.14\\\\\n",
       "\t6 & 6/1/2004 & 230.74\\\\\n",
       "\\end{tabular}\n"
      ],
      "text/markdown": [
       "\n",
       "A data.frame: 6 × 2\n",
       "\n",
       "| <!--/--> | date &lt;chr&gt; | price &lt;dbl&gt; |\n",
       "|---|---|---|\n",
       "| 1 | 1/1/2004 | 198.82 |\n",
       "| 2 | 2/1/2004 | 204.07 |\n",
       "| 3 | 3/1/2004 | 225.80 |\n",
       "| 4 | 4/1/2004 | 240.71 |\n",
       "| 5 | 5/1/2004 | 236.14 |\n",
       "| 6 | 6/1/2004 | 230.74 |\n",
       "\n"
      ],
      "text/plain": [
       "  date     price \n",
       "1 1/1/2004 198.82\n",
       "2 2/1/2004 204.07\n",
       "3 3/1/2004 225.80\n",
       "4 4/1/2004 240.71\n",
       "5 5/1/2004 236.14\n",
       "6 6/1/2004 230.74"
      ]
     },
     "metadata": {},
     "output_type": "display_data"
    }
   ],
   "source": [
    "# In một số thông tin chung từ dữ liệu\n",
    "head(export)"
   ]
  },
  {
   "cell_type": "code",
   "execution_count": 3,
   "id": "750566fa-7ee6-4aca-a33b-fb12591bdfee",
   "metadata": {},
   "outputs": [
    {
     "data": {
      "text/html": [
       "<table class=\"dataframe\">\n",
       "<caption>A data.frame: 6 × 2</caption>\n",
       "<thead>\n",
       "\t<tr><th></th><th scope=col>date</th><th scope=col>price</th></tr>\n",
       "\t<tr><th></th><th scope=col>&lt;chr&gt;</th><th scope=col>&lt;dbl&gt;</th></tr>\n",
       "</thead>\n",
       "<tbody>\n",
       "\t<tr><th scope=row>220</th><td>4/1/2022</td><td>402.38</td></tr>\n",
       "\t<tr><th scope=row>221</th><td>5/1/2022</td><td>406.45</td></tr>\n",
       "\t<tr><th scope=row>222</th><td>6/1/2022</td><td>411.92</td></tr>\n",
       "\t<tr><th scope=row>223</th><td>7/1/2022</td><td>411.09</td></tr>\n",
       "\t<tr><th scope=row>224</th><td>8/1/2022</td><td>395.80</td></tr>\n",
       "\t<tr><th scope=row>225</th><td>9/1/2022</td><td>391.78</td></tr>\n",
       "</tbody>\n",
       "</table>\n"
      ],
      "text/latex": [
       "A data.frame: 6 × 2\n",
       "\\begin{tabular}{r|ll}\n",
       "  & date & price\\\\\n",
       "  & <chr> & <dbl>\\\\\n",
       "\\hline\n",
       "\t220 & 4/1/2022 & 402.38\\\\\n",
       "\t221 & 5/1/2022 & 406.45\\\\\n",
       "\t222 & 6/1/2022 & 411.92\\\\\n",
       "\t223 & 7/1/2022 & 411.09\\\\\n",
       "\t224 & 8/1/2022 & 395.80\\\\\n",
       "\t225 & 9/1/2022 & 391.78\\\\\n",
       "\\end{tabular}\n"
      ],
      "text/markdown": [
       "\n",
       "A data.frame: 6 × 2\n",
       "\n",
       "| <!--/--> | date &lt;chr&gt; | price &lt;dbl&gt; |\n",
       "|---|---|---|\n",
       "| 220 | 4/1/2022 | 402.38 |\n",
       "| 221 | 5/1/2022 | 406.45 |\n",
       "| 222 | 6/1/2022 | 411.92 |\n",
       "| 223 | 7/1/2022 | 411.09 |\n",
       "| 224 | 8/1/2022 | 395.80 |\n",
       "| 225 | 9/1/2022 | 391.78 |\n",
       "\n"
      ],
      "text/plain": [
       "    date     price \n",
       "220 4/1/2022 402.38\n",
       "221 5/1/2022 406.45\n",
       "222 6/1/2022 411.92\n",
       "223 7/1/2022 411.09\n",
       "224 8/1/2022 395.80\n",
       "225 9/1/2022 391.78"
      ]
     },
     "metadata": {},
     "output_type": "display_data"
    }
   ],
   "source": [
    "tail(export)"
   ]
  },
  {
   "cell_type": "code",
   "execution_count": 4,
   "id": "13429ed8-85a8-44a4-894b-64b60ae3641d",
   "metadata": {},
   "outputs": [
    {
     "name": "stdout",
     "output_type": "stream",
     "text": [
      "'data.frame':\t225 obs. of  2 variables:\n",
      " $ date : chr  \"1/1/2004\" \"2/1/2004\" \"3/1/2004\" \"4/1/2004\" ...\n",
      " $ price: num  199 204 226 241 236 ...\n"
     ]
    }
   ],
   "source": [
    "str(export)"
   ]
  },
  {
   "cell_type": "code",
   "execution_count": 5,
   "id": "f7cc6a53-a8ca-4728-9eed-ee88b6b3ab46",
   "metadata": {},
   "outputs": [
    {
     "data": {
      "text/plain": [
       "     date               price      \n",
       " Length:225         Min.   :198.8  \n",
       " Class :character   1st Qu.:341.0  \n",
       " Mode  :character   Median :386.9  \n",
       "                    Mean   :386.3  \n",
       "                    3rd Qu.:431.1  \n",
       "                    Max.   :780.0  "
      ]
     },
     "metadata": {},
     "output_type": "display_data"
    }
   ],
   "source": [
    "summary(export)"
   ]
  },
  {
   "cell_type": "code",
   "execution_count": 6,
   "id": "6be39c9d-5b51-4031-9bc2-a4b5374e2427",
   "metadata": {},
   "outputs": [
    {
     "data": {
      "text/html": [
       "<table class=\"dataframe\">\n",
       "<caption>A Time Series: 19 × 12</caption>\n",
       "<thead>\n",
       "\t<tr><th></th><th scope=col>Jan</th><th scope=col>Feb</th><th scope=col>Mar</th><th scope=col>Apr</th><th scope=col>May</th><th scope=col>Jun</th><th scope=col>Jul</th><th scope=col>Aug</th><th scope=col>Sep</th><th scope=col>Oct</th><th scope=col>Nov</th><th scope=col>Dec</th></tr>\n",
       "</thead>\n",
       "<tbody>\n",
       "\t<tr><th scope=row>2004</th><td>198.8200</td><td>204.0700</td><td>225.8000</td><td>240.7100</td><td>236.1400</td><td>230.7400</td><td>228.9600</td><td>232.7200</td><td>224.1700</td><td>222.1400</td><td>233.0700</td><td>238.5100</td></tr>\n",
       "\t<tr><th scope=row>2005</th><td>255.3200</td><td>265.6400</td><td>262.9200</td><td>259.9200</td><td>256.1400</td><td>241.4900</td><td>237.2800</td><td>255.6500</td><td>257.0000</td><td>269.3600</td><td>272.0000</td><td>267.9300</td></tr>\n",
       "\t<tr><th scope=row>2006</th><td>263.8600</td><td>264.2900</td><td>244.8600</td><td>244.2500</td><td>256.2300</td><td>259.4300</td><td>257.4300</td><td>263.6300</td><td>267.7100</td><td>283.2100</td><td>288.1575</td><td>293.1050</td></tr>\n",
       "\t<tr><th scope=row>2007</th><td>298.0525</td><td>303.0000</td><td>304.9300</td><td>302.2500</td><td>300.3600</td><td>302.4900</td><td>302.7100</td><td>310.0000</td><td>315.2500</td><td>323.0000</td><td>320.0000</td><td>385.7143</td></tr>\n",
       "\t<tr><th scope=row>2008</th><td>451.4286</td><td>517.1429</td><td>582.8571</td><td>648.5714</td><td>714.2857</td><td>780.0000</td><td>698.0000</td><td>607.5000</td><td>561.7800</td><td>478.5700</td><td>431.0700</td><td>413.0000</td></tr>\n",
       "\t<tr><th scope=row>2009</th><td>386.7900</td><td>418.0900</td><td>424.0450</td><td>430.0000</td><td>405.1800</td><td>404.2800</td><td>410.2300</td><td>395.7200</td><td>392.8600</td><td>414.1100</td><td>491.6000</td><td>529.9100</td></tr>\n",
       "\t<tr><th scope=row>2010</th><td>485.2800</td><td>421.7800</td><td>392.5700</td><td>371.1700</td><td>368.8200</td><td>358.2200</td><td>357.8600</td><td>422.8600</td><td>457.6800</td><td>477.6800</td><td>508.0300</td><td>528.2900</td></tr>\n",
       "\t<tr><th scope=row>2011</th><td>493.8600</td><td>478.5700</td><td>464.0000</td><td>484.2900</td><td>479.6400</td><td>475.2800</td><td>519.4600</td><td>553.4300</td><td>561.4300</td><td>580.5400</td><td>568.7500</td><td>504.4300</td></tr>\n",
       "\t<tr><th scope=row>2012</th><td>451.4300</td><td>430.4300</td><td>428.7500</td><td>440.7200</td><td>433.2900</td><td>411.9600</td><td>409.2800</td><td>436.4300</td><td>455.1800</td><td>453.7400</td><td>448.3200</td><td>413.7500</td></tr>\n",
       "\t<tr><th scope=row>2013</th><td>401.2400</td><td>401.6400</td><td>401.6100</td><td>390.7600</td><td>386.8500</td><td>385.9300</td><td>387.7400</td><td>399.4400</td><td>362.0000</td><td>376.3200</td><td>395.8800</td><td>419.4100</td></tr>\n",
       "\t<tr><th scope=row>2014</th><td>402.0000</td><td>393.1600</td><td>378.5700</td><td>370.9100</td><td>390.4800</td><td>404.5000</td><td>420.8700</td><td>442.6200</td><td>442.0500</td><td>436.9600</td><td>422.0000</td><td>382.3900</td></tr>\n",
       "\t<tr><th scope=row>2015</th><td>374.4200</td><td>353.5000</td><td>360.7400</td><td>354.0200</td><td>351.0000</td><td>349.0000</td><td>345.7800</td><td>340.1300</td><td>326.4300</td><td>342.4000</td><td>353.6100</td><td>371.0000</td></tr>\n",
       "\t<tr><th scope=row>2016</th><td>364.9100</td><td>360.1300</td><td>360.2000</td><td>371.0000</td><td>377.3100</td><td>372.4600</td><td>361.5700</td><td>347.4600</td><td>342.7300</td><td>336.3900</td><td>338.0000</td><td>341.0000</td></tr>\n",
       "\t<tr><th scope=row>2017</th><td>336.5500</td><td>335.3400</td><td>343.5600</td><td>344.6500</td><td>345.0000</td><td>357.1800</td><td>385.8700</td><td>390.3700</td><td>382.0000</td><td>376.1900</td><td>379.0100</td><td>383.2400</td></tr>\n",
       "\t<tr><th scope=row>2018</th><td>380.9400</td><td>395.4300</td><td>409.9200</td><td>413.4300</td><td>419.0000</td><td>443.1000</td><td>440.6500</td><td>401.5600</td><td>384.6500</td><td>389.8000</td><td>395.7300</td><td>399.5200</td></tr>\n",
       "\t<tr><th scope=row>2019</th><td>396.3100</td><td>367.9500</td><td>342.6200</td><td>341.1100</td><td>350.9400</td><td>358.8200</td><td>360.1600</td><td>362.3900</td><td>350.8500</td><td>325.7900</td><td>328.2400</td><td>337.4300</td></tr>\n",
       "\t<tr><th scope=row>2020</th><td>348.6800</td><td>357.4200</td><td>372.5800</td><td>407.1400</td><td>438.4200</td><td>449.4600</td><td>444.1900</td><td>448.9100</td><td>462.6600</td><td>459.1700</td><td>469.5000</td><td>477.3900</td></tr>\n",
       "\t<tr><th scope=row>2021</th><td>490.9800</td><td>500.4800</td><td>498.3800</td><td>488.1700</td><td>477.7000</td><td>474.0000</td><td>436.1700</td><td>384.4600</td><td>387.3000</td><td>404.4600</td><td>411.4100</td><td>402.6600</td></tr>\n",
       "\t<tr><th scope=row>2022</th><td>395.9400</td><td>384.2100</td><td>391.6700</td><td>402.3800</td><td>406.4500</td><td>411.9200</td><td>411.0900</td><td>395.8000</td><td>391.7800</td><td>        </td><td>        </td><td>        </td></tr>\n",
       "</tbody>\n",
       "</table>\n"
      ],
      "text/latex": [
       "A Time Series: 19 × 12\n",
       "\\begin{tabular}{r|llllllllllll}\n",
       "  & Jan & Feb & Mar & Apr & May & Jun & Jul & Aug & Sep & Oct & Nov & Dec\\\\\n",
       "\\hline\n",
       "\t2004 & 198.8200 & 204.0700 & 225.8000 & 240.7100 & 236.1400 & 230.7400 & 228.9600 & 232.7200 & 224.1700 & 222.1400 & 233.0700 & 238.5100\\\\\n",
       "\t2005 & 255.3200 & 265.6400 & 262.9200 & 259.9200 & 256.1400 & 241.4900 & 237.2800 & 255.6500 & 257.0000 & 269.3600 & 272.0000 & 267.9300\\\\\n",
       "\t2006 & 263.8600 & 264.2900 & 244.8600 & 244.2500 & 256.2300 & 259.4300 & 257.4300 & 263.6300 & 267.7100 & 283.2100 & 288.1575 & 293.1050\\\\\n",
       "\t2007 & 298.0525 & 303.0000 & 304.9300 & 302.2500 & 300.3600 & 302.4900 & 302.7100 & 310.0000 & 315.2500 & 323.0000 & 320.0000 & 385.7143\\\\\n",
       "\t2008 & 451.4286 & 517.1429 & 582.8571 & 648.5714 & 714.2857 & 780.0000 & 698.0000 & 607.5000 & 561.7800 & 478.5700 & 431.0700 & 413.0000\\\\\n",
       "\t2009 & 386.7900 & 418.0900 & 424.0450 & 430.0000 & 405.1800 & 404.2800 & 410.2300 & 395.7200 & 392.8600 & 414.1100 & 491.6000 & 529.9100\\\\\n",
       "\t2010 & 485.2800 & 421.7800 & 392.5700 & 371.1700 & 368.8200 & 358.2200 & 357.8600 & 422.8600 & 457.6800 & 477.6800 & 508.0300 & 528.2900\\\\\n",
       "\t2011 & 493.8600 & 478.5700 & 464.0000 & 484.2900 & 479.6400 & 475.2800 & 519.4600 & 553.4300 & 561.4300 & 580.5400 & 568.7500 & 504.4300\\\\\n",
       "\t2012 & 451.4300 & 430.4300 & 428.7500 & 440.7200 & 433.2900 & 411.9600 & 409.2800 & 436.4300 & 455.1800 & 453.7400 & 448.3200 & 413.7500\\\\\n",
       "\t2013 & 401.2400 & 401.6400 & 401.6100 & 390.7600 & 386.8500 & 385.9300 & 387.7400 & 399.4400 & 362.0000 & 376.3200 & 395.8800 & 419.4100\\\\\n",
       "\t2014 & 402.0000 & 393.1600 & 378.5700 & 370.9100 & 390.4800 & 404.5000 & 420.8700 & 442.6200 & 442.0500 & 436.9600 & 422.0000 & 382.3900\\\\\n",
       "\t2015 & 374.4200 & 353.5000 & 360.7400 & 354.0200 & 351.0000 & 349.0000 & 345.7800 & 340.1300 & 326.4300 & 342.4000 & 353.6100 & 371.0000\\\\\n",
       "\t2016 & 364.9100 & 360.1300 & 360.2000 & 371.0000 & 377.3100 & 372.4600 & 361.5700 & 347.4600 & 342.7300 & 336.3900 & 338.0000 & 341.0000\\\\\n",
       "\t2017 & 336.5500 & 335.3400 & 343.5600 & 344.6500 & 345.0000 & 357.1800 & 385.8700 & 390.3700 & 382.0000 & 376.1900 & 379.0100 & 383.2400\\\\\n",
       "\t2018 & 380.9400 & 395.4300 & 409.9200 & 413.4300 & 419.0000 & 443.1000 & 440.6500 & 401.5600 & 384.6500 & 389.8000 & 395.7300 & 399.5200\\\\\n",
       "\t2019 & 396.3100 & 367.9500 & 342.6200 & 341.1100 & 350.9400 & 358.8200 & 360.1600 & 362.3900 & 350.8500 & 325.7900 & 328.2400 & 337.4300\\\\\n",
       "\t2020 & 348.6800 & 357.4200 & 372.5800 & 407.1400 & 438.4200 & 449.4600 & 444.1900 & 448.9100 & 462.6600 & 459.1700 & 469.5000 & 477.3900\\\\\n",
       "\t2021 & 490.9800 & 500.4800 & 498.3800 & 488.1700 & 477.7000 & 474.0000 & 436.1700 & 384.4600 & 387.3000 & 404.4600 & 411.4100 & 402.6600\\\\\n",
       "\t2022 & 395.9400 & 384.2100 & 391.6700 & 402.3800 & 406.4500 & 411.9200 & 411.0900 & 395.8000 & 391.7800 &          &          &         \\\\\n",
       "\\end{tabular}\n"
      ],
      "text/markdown": [
       "\n",
       "A Time Series: 19 × 12\n",
       "\n",
       "| <!--/--> | Jan | Feb | Mar | Apr | May | Jun | Jul | Aug | Sep | Oct | Nov | Dec |\n",
       "|---|---|---|---|---|---|---|---|---|---|---|---|---|\n",
       "| 2004 | 198.8200 | 204.0700 | 225.8000 | 240.7100 | 236.1400 | 230.7400 | 228.9600 | 232.7200 | 224.1700 | 222.1400 | 233.0700 | 238.5100 |\n",
       "| 2005 | 255.3200 | 265.6400 | 262.9200 | 259.9200 | 256.1400 | 241.4900 | 237.2800 | 255.6500 | 257.0000 | 269.3600 | 272.0000 | 267.9300 |\n",
       "| 2006 | 263.8600 | 264.2900 | 244.8600 | 244.2500 | 256.2300 | 259.4300 | 257.4300 | 263.6300 | 267.7100 | 283.2100 | 288.1575 | 293.1050 |\n",
       "| 2007 | 298.0525 | 303.0000 | 304.9300 | 302.2500 | 300.3600 | 302.4900 | 302.7100 | 310.0000 | 315.2500 | 323.0000 | 320.0000 | 385.7143 |\n",
       "| 2008 | 451.4286 | 517.1429 | 582.8571 | 648.5714 | 714.2857 | 780.0000 | 698.0000 | 607.5000 | 561.7800 | 478.5700 | 431.0700 | 413.0000 |\n",
       "| 2009 | 386.7900 | 418.0900 | 424.0450 | 430.0000 | 405.1800 | 404.2800 | 410.2300 | 395.7200 | 392.8600 | 414.1100 | 491.6000 | 529.9100 |\n",
       "| 2010 | 485.2800 | 421.7800 | 392.5700 | 371.1700 | 368.8200 | 358.2200 | 357.8600 | 422.8600 | 457.6800 | 477.6800 | 508.0300 | 528.2900 |\n",
       "| 2011 | 493.8600 | 478.5700 | 464.0000 | 484.2900 | 479.6400 | 475.2800 | 519.4600 | 553.4300 | 561.4300 | 580.5400 | 568.7500 | 504.4300 |\n",
       "| 2012 | 451.4300 | 430.4300 | 428.7500 | 440.7200 | 433.2900 | 411.9600 | 409.2800 | 436.4300 | 455.1800 | 453.7400 | 448.3200 | 413.7500 |\n",
       "| 2013 | 401.2400 | 401.6400 | 401.6100 | 390.7600 | 386.8500 | 385.9300 | 387.7400 | 399.4400 | 362.0000 | 376.3200 | 395.8800 | 419.4100 |\n",
       "| 2014 | 402.0000 | 393.1600 | 378.5700 | 370.9100 | 390.4800 | 404.5000 | 420.8700 | 442.6200 | 442.0500 | 436.9600 | 422.0000 | 382.3900 |\n",
       "| 2015 | 374.4200 | 353.5000 | 360.7400 | 354.0200 | 351.0000 | 349.0000 | 345.7800 | 340.1300 | 326.4300 | 342.4000 | 353.6100 | 371.0000 |\n",
       "| 2016 | 364.9100 | 360.1300 | 360.2000 | 371.0000 | 377.3100 | 372.4600 | 361.5700 | 347.4600 | 342.7300 | 336.3900 | 338.0000 | 341.0000 |\n",
       "| 2017 | 336.5500 | 335.3400 | 343.5600 | 344.6500 | 345.0000 | 357.1800 | 385.8700 | 390.3700 | 382.0000 | 376.1900 | 379.0100 | 383.2400 |\n",
       "| 2018 | 380.9400 | 395.4300 | 409.9200 | 413.4300 | 419.0000 | 443.1000 | 440.6500 | 401.5600 | 384.6500 | 389.8000 | 395.7300 | 399.5200 |\n",
       "| 2019 | 396.3100 | 367.9500 | 342.6200 | 341.1100 | 350.9400 | 358.8200 | 360.1600 | 362.3900 | 350.8500 | 325.7900 | 328.2400 | 337.4300 |\n",
       "| 2020 | 348.6800 | 357.4200 | 372.5800 | 407.1400 | 438.4200 | 449.4600 | 444.1900 | 448.9100 | 462.6600 | 459.1700 | 469.5000 | 477.3900 |\n",
       "| 2021 | 490.9800 | 500.4800 | 498.3800 | 488.1700 | 477.7000 | 474.0000 | 436.1700 | 384.4600 | 387.3000 | 404.4600 | 411.4100 | 402.6600 |\n",
       "| 2022 | 395.9400 | 384.2100 | 391.6700 | 402.3800 | 406.4500 | 411.9200 | 411.0900 | 395.8000 | 391.7800 | <!----> | <!----> | <!----> |\n",
       "\n"
      ],
      "text/plain": [
       "     Jan      Feb      Mar      Apr      May      Jun      Jul      Aug     \n",
       "2004 198.8200 204.0700 225.8000 240.7100 236.1400 230.7400 228.9600 232.7200\n",
       "2005 255.3200 265.6400 262.9200 259.9200 256.1400 241.4900 237.2800 255.6500\n",
       "2006 263.8600 264.2900 244.8600 244.2500 256.2300 259.4300 257.4300 263.6300\n",
       "2007 298.0525 303.0000 304.9300 302.2500 300.3600 302.4900 302.7100 310.0000\n",
       "2008 451.4286 517.1429 582.8571 648.5714 714.2857 780.0000 698.0000 607.5000\n",
       "2009 386.7900 418.0900 424.0450 430.0000 405.1800 404.2800 410.2300 395.7200\n",
       "2010 485.2800 421.7800 392.5700 371.1700 368.8200 358.2200 357.8600 422.8600\n",
       "2011 493.8600 478.5700 464.0000 484.2900 479.6400 475.2800 519.4600 553.4300\n",
       "2012 451.4300 430.4300 428.7500 440.7200 433.2900 411.9600 409.2800 436.4300\n",
       "2013 401.2400 401.6400 401.6100 390.7600 386.8500 385.9300 387.7400 399.4400\n",
       "2014 402.0000 393.1600 378.5700 370.9100 390.4800 404.5000 420.8700 442.6200\n",
       "2015 374.4200 353.5000 360.7400 354.0200 351.0000 349.0000 345.7800 340.1300\n",
       "2016 364.9100 360.1300 360.2000 371.0000 377.3100 372.4600 361.5700 347.4600\n",
       "2017 336.5500 335.3400 343.5600 344.6500 345.0000 357.1800 385.8700 390.3700\n",
       "2018 380.9400 395.4300 409.9200 413.4300 419.0000 443.1000 440.6500 401.5600\n",
       "2019 396.3100 367.9500 342.6200 341.1100 350.9400 358.8200 360.1600 362.3900\n",
       "2020 348.6800 357.4200 372.5800 407.1400 438.4200 449.4600 444.1900 448.9100\n",
       "2021 490.9800 500.4800 498.3800 488.1700 477.7000 474.0000 436.1700 384.4600\n",
       "2022 395.9400 384.2100 391.6700 402.3800 406.4500 411.9200 411.0900 395.8000\n",
       "     Sep      Oct      Nov      Dec     \n",
       "2004 224.1700 222.1400 233.0700 238.5100\n",
       "2005 257.0000 269.3600 272.0000 267.9300\n",
       "2006 267.7100 283.2100 288.1575 293.1050\n",
       "2007 315.2500 323.0000 320.0000 385.7143\n",
       "2008 561.7800 478.5700 431.0700 413.0000\n",
       "2009 392.8600 414.1100 491.6000 529.9100\n",
       "2010 457.6800 477.6800 508.0300 528.2900\n",
       "2011 561.4300 580.5400 568.7500 504.4300\n",
       "2012 455.1800 453.7400 448.3200 413.7500\n",
       "2013 362.0000 376.3200 395.8800 419.4100\n",
       "2014 442.0500 436.9600 422.0000 382.3900\n",
       "2015 326.4300 342.4000 353.6100 371.0000\n",
       "2016 342.7300 336.3900 338.0000 341.0000\n",
       "2017 382.0000 376.1900 379.0100 383.2400\n",
       "2018 384.6500 389.8000 395.7300 399.5200\n",
       "2019 350.8500 325.7900 328.2400 337.4300\n",
       "2020 462.6600 459.1700 469.5000 477.3900\n",
       "2021 387.3000 404.4600 411.4100 402.6600\n",
       "2022 391.7800                           "
      ]
     },
     "metadata": {},
     "output_type": "display_data"
    }
   ],
   "source": [
    "# Chuyển dữ liệu này thành Time Series object => in Time Series object\n",
    "export.timeseries <- ts(export$price, start = c(2004,1), frequency = 12)\n",
    "export.timeseries"
   ]
  },
  {
   "cell_type": "code",
   "execution_count": 7,
   "id": "20a5b58c-b18b-482e-9a40-ac7209649fb0",
   "metadata": {},
   "outputs": [
    {
     "data": {
      "image/png": "[encoded data removed]",
      "text/plain": [
       "Plot with title \"Export Rice Prices from January 2004 to September 2022\""
      ]
     },
     "metadata": {
      "image/png": {
       "height": 420,
       "width": 420
      }
     },
     "output_type": "display_data"
    }
   ],
   "source": [
    "# Vẽ Time Series object vừa tạo\n",
    "plot(export.timeseries,\n",
    "     main = 'Export Rice Prices from January 2004 to September 2022',\n",
    "     col = 'red',\n",
    "     xlab = 'Year',\n",
    "     ylab = 'Export')"
   ]
  },
  {
   "cell_type": "code",
   "execution_count": 8,
   "id": "eb17ecc9-4a50-44af-a41b-e8eddcaac51b",
   "metadata": {},
   "outputs": [],
   "source": [
    "# Thực hiện việc decompostition, trực quan và nhận xét.\n",
    "comp = decompose(export.timeseries)"
   ]
  },
  {
   "cell_type": "code",
   "execution_count": 9,
   "id": "0a3c61b4-5bf5-4cfd-be7a-c820243e7a78",
   "metadata": {},
   "outputs": [
    {
     "data": {
      "text/html": [
       "<table class=\"dataframe\">\n",
       "<caption>A Time Series: 19 × 12</caption>\n",
       "<thead>\n",
       "\t<tr><th></th><th scope=col>Jan</th><th scope=col>Feb</th><th scope=col>Mar</th><th scope=col>Apr</th><th scope=col>May</th><th scope=col>Jun</th><th scope=col>Jul</th><th scope=col>Aug</th><th scope=col>Sep</th><th scope=col>Oct</th><th scope=col>Nov</th><th scope=col>Dec</th></tr>\n",
       "</thead>\n",
       "<tbody>\n",
       "\t<tr><th scope=row>2004</th><td>198.8200</td><td>204.0700</td><td>225.8000</td><td>240.7100</td><td>236.1400</td><td>230.7400</td><td>228.9600</td><td>232.7200</td><td>224.1700</td><td>222.1400</td><td>233.0700</td><td>238.5100</td></tr>\n",
       "\t<tr><th scope=row>2005</th><td>255.3200</td><td>265.6400</td><td>262.9200</td><td>259.9200</td><td>256.1400</td><td>241.4900</td><td>237.2800</td><td>255.6500</td><td>257.0000</td><td>269.3600</td><td>272.0000</td><td>267.9300</td></tr>\n",
       "\t<tr><th scope=row>2006</th><td>263.8600</td><td>264.2900</td><td>244.8600</td><td>244.2500</td><td>256.2300</td><td>259.4300</td><td>257.4300</td><td>263.6300</td><td>267.7100</td><td>283.2100</td><td>288.1575</td><td>293.1050</td></tr>\n",
       "\t<tr><th scope=row>2007</th><td>298.0525</td><td>303.0000</td><td>304.9300</td><td>302.2500</td><td>300.3600</td><td>302.4900</td><td>302.7100</td><td>310.0000</td><td>315.2500</td><td>323.0000</td><td>320.0000</td><td>385.7143</td></tr>\n",
       "\t<tr><th scope=row>2008</th><td>451.4286</td><td>517.1429</td><td>582.8571</td><td>648.5714</td><td>714.2857</td><td>780.0000</td><td>698.0000</td><td>607.5000</td><td>561.7800</td><td>478.5700</td><td>431.0700</td><td>413.0000</td></tr>\n",
       "\t<tr><th scope=row>2009</th><td>386.7900</td><td>418.0900</td><td>424.0450</td><td>430.0000</td><td>405.1800</td><td>404.2800</td><td>410.2300</td><td>395.7200</td><td>392.8600</td><td>414.1100</td><td>491.6000</td><td>529.9100</td></tr>\n",
       "\t<tr><th scope=row>2010</th><td>485.2800</td><td>421.7800</td><td>392.5700</td><td>371.1700</td><td>368.8200</td><td>358.2200</td><td>357.8600</td><td>422.8600</td><td>457.6800</td><td>477.6800</td><td>508.0300</td><td>528.2900</td></tr>\n",
       "\t<tr><th scope=row>2011</th><td>493.8600</td><td>478.5700</td><td>464.0000</td><td>484.2900</td><td>479.6400</td><td>475.2800</td><td>519.4600</td><td>553.4300</td><td>561.4300</td><td>580.5400</td><td>568.7500</td><td>504.4300</td></tr>\n",
       "\t<tr><th scope=row>2012</th><td>451.4300</td><td>430.4300</td><td>428.7500</td><td>440.7200</td><td>433.2900</td><td>411.9600</td><td>409.2800</td><td>436.4300</td><td>455.1800</td><td>453.7400</td><td>448.3200</td><td>413.7500</td></tr>\n",
       "\t<tr><th scope=row>2013</th><td>401.2400</td><td>401.6400</td><td>401.6100</td><td>390.7600</td><td>386.8500</td><td>385.9300</td><td>387.7400</td><td>399.4400</td><td>362.0000</td><td>376.3200</td><td>395.8800</td><td>419.4100</td></tr>\n",
       "\t<tr><th scope=row>2014</th><td>402.0000</td><td>393.1600</td><td>378.5700</td><td>370.9100</td><td>390.4800</td><td>404.5000</td><td>420.8700</td><td>442.6200</td><td>442.0500</td><td>436.9600</td><td>422.0000</td><td>382.3900</td></tr>\n",
       "\t<tr><th scope=row>2015</th><td>374.4200</td><td>353.5000</td><td>360.7400</td><td>354.0200</td><td>351.0000</td><td>349.0000</td><td>345.7800</td><td>340.1300</td><td>326.4300</td><td>342.4000</td><td>353.6100</td><td>371.0000</td></tr>\n",
       "\t<tr><th scope=row>2016</th><td>364.9100</td><td>360.1300</td><td>360.2000</td><td>371.0000</td><td>377.3100</td><td>372.4600</td><td>361.5700</td><td>347.4600</td><td>342.7300</td><td>336.3900</td><td>338.0000</td><td>341.0000</td></tr>\n",
       "\t<tr><th scope=row>2017</th><td>336.5500</td><td>335.3400</td><td>343.5600</td><td>344.6500</td><td>345.0000</td><td>357.1800</td><td>385.8700</td><td>390.3700</td><td>382.0000</td><td>376.1900</td><td>379.0100</td><td>383.2400</td></tr>\n",
       "\t<tr><th scope=row>2018</th><td>380.9400</td><td>395.4300</td><td>409.9200</td><td>413.4300</td><td>419.0000</td><td>443.1000</td><td>440.6500</td><td>401.5600</td><td>384.6500</td><td>389.8000</td><td>395.7300</td><td>399.5200</td></tr>\n",
       "\t<tr><th scope=row>2019</th><td>396.3100</td><td>367.9500</td><td>342.6200</td><td>341.1100</td><td>350.9400</td><td>358.8200</td><td>360.1600</td><td>362.3900</td><td>350.8500</td><td>325.7900</td><td>328.2400</td><td>337.4300</td></tr>\n",
       "\t<tr><th scope=row>2020</th><td>348.6800</td><td>357.4200</td><td>372.5800</td><td>407.1400</td><td>438.4200</td><td>449.4600</td><td>444.1900</td><td>448.9100</td><td>462.6600</td><td>459.1700</td><td>469.5000</td><td>477.3900</td></tr>\n",
       "\t<tr><th scope=row>2021</th><td>490.9800</td><td>500.4800</td><td>498.3800</td><td>488.1700</td><td>477.7000</td><td>474.0000</td><td>436.1700</td><td>384.4600</td><td>387.3000</td><td>404.4600</td><td>411.4100</td><td>402.6600</td></tr>\n",
       "\t<tr><th scope=row>2022</th><td>395.9400</td><td>384.2100</td><td>391.6700</td><td>402.3800</td><td>406.4500</td><td>411.9200</td><td>411.0900</td><td>395.8000</td><td>391.7800</td><td>        </td><td>        </td><td>        </td></tr>\n",
       "</tbody>\n",
       "</table>\n"
      ],
      "text/latex": [
       "A Time Series: 19 × 12\n",
       "\\begin{tabular}{r|llllllllllll}\n",
       "  & Jan & Feb & Mar & Apr & May & Jun & Jul & Aug & Sep & Oct & Nov & Dec\\\\\n",
       "\\hline\n",
       "\t2004 & 198.8200 & 204.0700 & 225.8000 & 240.7100 & 236.1400 & 230.7400 & 228.9600 & 232.7200 & 224.1700 & 222.1400 & 233.0700 & 238.5100\\\\\n",
       "\t2005 & 255.3200 & 265.6400 & 262.9200 & 259.9200 & 256.1400 & 241.4900 & 237.2800 & 255.6500 & 257.0000 & 269.3600 & 272.0000 & 267.9300\\\\\n",
       "\t2006 & 263.8600 & 264.2900 & 244.8600 & 244.2500 & 256.2300 & 259.4300 & 257.4300 & 263.6300 & 267.7100 & 283.2100 & 288.1575 & 293.1050\\\\\n",
       "\t2007 & 298.0525 & 303.0000 & 304.9300 & 302.2500 & 300.3600 & 302.4900 & 302.7100 & 310.0000 & 315.2500 & 323.0000 & 320.0000 & 385.7143\\\\\n",
       "\t2008 & 451.4286 & 517.1429 & 582.8571 & 648.5714 & 714.2857 & 780.0000 & 698.0000 & 607.5000 & 561.7800 & 478.5700 & 431.0700 & 413.0000\\\\\n",
       "\t2009 & 386.7900 & 418.0900 & 424.0450 & 430.0000 & 405.1800 & 404.2800 & 410.2300 & 395.7200 & 392.8600 & 414.1100 & 491.6000 & 529.9100\\\\\n",
       "\t2010 & 485.2800 & 421.7800 & 392.5700 & 371.1700 & 368.8200 & 358.2200 & 357.8600 & 422.8600 & 457.6800 & 477.6800 & 508.0300 & 528.2900\\\\\n",
       "\t2011 & 493.8600 & 478.5700 & 464.0000 & 484.2900 & 479.6400 & 475.2800 & 519.4600 & 553.4300 & 561.4300 & 580.5400 & 568.7500 & 504.4300\\\\\n",
       "\t2012 & 451.4300 & 430.4300 & 428.7500 & 440.7200 & 433.2900 & 411.9600 & 409.2800 & 436.4300 & 455.1800 & 453.7400 & 448.3200 & 413.7500\\\\\n",
       "\t2013 & 401.2400 & 401.6400 & 401.6100 & 390.7600 & 386.8500 & 385.9300 & 387.7400 & 399.4400 & 362.0000 & 376.3200 & 395.8800 & 419.4100\\\\\n",
       "\t2014 & 402.0000 & 393.1600 & 378.5700 & 370.9100 & 390.4800 & 404.5000 & 420.8700 & 442.6200 & 442.0500 & 436.9600 & 422.0000 & 382.3900\\\\\n",
       "\t2015 & 374.4200 & 353.5000 & 360.7400 & 354.0200 & 351.0000 & 349.0000 & 345.7800 & 340.1300 & 326.4300 & 342.4000 & 353.6100 & 371.0000\\\\\n",
       "\t2016 & 364.9100 & 360.1300 & 360.2000 & 371.0000 & 377.3100 & 372.4600 & 361.5700 & 347.4600 & 342.7300 & 336.3900 & 338.0000 & 341.0000\\\\\n",
       "\t2017 & 336.5500 & 335.3400 & 343.5600 & 344.6500 & 345.0000 & 357.1800 & 385.8700 & 390.3700 & 382.0000 & 376.1900 & 379.0100 & 383.2400\\\\\n",
       "\t2018 & 380.9400 & 395.4300 & 409.9200 & 413.4300 & 419.0000 & 443.1000 & 440.6500 & 401.5600 & 384.6500 & 389.8000 & 395.7300 & 399.5200\\\\\n",
       "\t2019 & 396.3100 & 367.9500 & 342.6200 & 341.1100 & 350.9400 & 358.8200 & 360.1600 & 362.3900 & 350.8500 & 325.7900 & 328.2400 & 337.4300\\\\\n",
       "\t2020 & 348.6800 & 357.4200 & 372.5800 & 407.1400 & 438.4200 & 449.4600 & 444.1900 & 448.9100 & 462.6600 & 459.1700 & 469.5000 & 477.3900\\\\\n",
       "\t2021 & 490.9800 & 500.4800 & 498.3800 & 488.1700 & 477.7000 & 474.0000 & 436.1700 & 384.4600 & 387.3000 & 404.4600 & 411.4100 & 402.6600\\\\\n",
       "\t2022 & 395.9400 & 384.2100 & 391.6700 & 402.3800 & 406.4500 & 411.9200 & 411.0900 & 395.8000 & 391.7800 &          &          &         \\\\\n",
       "\\end{tabular}\n"
      ],
      "text/markdown": [
       "\n",
       "A Time Series: 19 × 12\n",
       "\n",
       "| <!--/--> | Jan | Feb | Mar | Apr | May | Jun | Jul | Aug | Sep | Oct | Nov | Dec |\n",
       "|---|---|---|---|---|---|---|---|---|---|---|---|---|\n",
       "| 2004 | 198.8200 | 204.0700 | 225.8000 | 240.7100 | 236.1400 | 230.7400 | 228.9600 | 232.7200 | 224.1700 | 222.1400 | 233.0700 | 238.5100 |\n",
       "| 2005 | 255.3200 | 265.6400 | 262.9200 | 259.9200 | 256.1400 | 241.4900 | 237.2800 | 255.6500 | 257.0000 | 269.3600 | 272.0000 | 267.9300 |\n",
       "| 2006 | 263.8600 | 264.2900 | 244.8600 | 244.2500 | 256.2300 | 259.4300 | 257.4300 | 263.6300 | 267.7100 | 283.2100 | 288.1575 | 293.1050 |\n",
       "| 2007 | 298.0525 | 303.0000 | 304.9300 | 302.2500 | 300.3600 | 302.4900 | 302.7100 | 310.0000 | 315.2500 | 323.0000 | 320.0000 | 385.7143 |\n",
       "| 2008 | 451.4286 | 517.1429 | 582.8571 | 648.5714 | 714.2857 | 780.0000 | 698.0000 | 607.5000 | 561.7800 | 478.5700 | 431.0700 | 413.0000 |\n",
       "| 2009 | 386.7900 | 418.0900 | 424.0450 | 430.0000 | 405.1800 | 404.2800 | 410.2300 | 395.7200 | 392.8600 | 414.1100 | 491.6000 | 529.9100 |\n",
       "| 2010 | 485.2800 | 421.7800 | 392.5700 | 371.1700 | 368.8200 | 358.2200 | 357.8600 | 422.8600 | 457.6800 | 477.6800 | 508.0300 | 528.2900 |\n",
       "| 2011 | 493.8600 | 478.5700 | 464.0000 | 484.2900 | 479.6400 | 475.2800 | 519.4600 | 553.4300 | 561.4300 | 580.5400 | 568.7500 | 504.4300 |\n",
       "| 2012 | 451.4300 | 430.4300 | 428.7500 | 440.7200 | 433.2900 | 411.9600 | 409.2800 | 436.4300 | 455.1800 | 453.7400 | 448.3200 | 413.7500 |\n",
       "| 2013 | 401.2400 | 401.6400 | 401.6100 | 390.7600 | 386.8500 | 385.9300 | 387.7400 | 399.4400 | 362.0000 | 376.3200 | 395.8800 | 419.4100 |\n",
       "| 2014 | 402.0000 | 393.1600 | 378.5700 | 370.9100 | 390.4800 | 404.5000 | 420.8700 | 442.6200 | 442.0500 | 436.9600 | 422.0000 | 382.3900 |\n",
       "| 2015 | 374.4200 | 353.5000 | 360.7400 | 354.0200 | 351.0000 | 349.0000 | 345.7800 | 340.1300 | 326.4300 | 342.4000 | 353.6100 | 371.0000 |\n",
       "| 2016 | 364.9100 | 360.1300 | 360.2000 | 371.0000 | 377.3100 | 372.4600 | 361.5700 | 347.4600 | 342.7300 | 336.3900 | 338.0000 | 341.0000 |\n",
       "| 2017 | 336.5500 | 335.3400 | 343.5600 | 344.6500 | 345.0000 | 357.1800 | 385.8700 | 390.3700 | 382.0000 | 376.1900 | 379.0100 | 383.2400 |\n",
       "| 2018 | 380.9400 | 395.4300 | 409.9200 | 413.4300 | 419.0000 | 443.1000 | 440.6500 | 401.5600 | 384.6500 | 389.8000 | 395.7300 | 399.5200 |\n",
       "| 2019 | 396.3100 | 367.9500 | 342.6200 | 341.1100 | 350.9400 | 358.8200 | 360.1600 | 362.3900 | 350.8500 | 325.7900 | 328.2400 | 337.4300 |\n",
       "| 2020 | 348.6800 | 357.4200 | 372.5800 | 407.1400 | 438.4200 | 449.4600 | 444.1900 | 448.9100 | 462.6600 | 459.1700 | 469.5000 | 477.3900 |\n",
       "| 2021 | 490.9800 | 500.4800 | 498.3800 | 488.1700 | 477.7000 | 474.0000 | 436.1700 | 384.4600 | 387.3000 | 404.4600 | 411.4100 | 402.6600 |\n",
       "| 2022 | 395.9400 | 384.2100 | 391.6700 | 402.3800 | 406.4500 | 411.9200 | 411.0900 | 395.8000 | 391.7800 | <!----> | <!----> | <!----> |\n",
       "\n"
      ],
      "text/plain": [
       "     Jan      Feb      Mar      Apr      May      Jun      Jul      Aug     \n",
       "2004 198.8200 204.0700 225.8000 240.7100 236.1400 230.7400 228.9600 232.7200\n",
       "2005 255.3200 265.6400 262.9200 259.9200 256.1400 241.4900 237.2800 255.6500\n",
       "2006 263.8600 264.2900 244.8600 244.2500 256.2300 259.4300 257.4300 263.6300\n",
       "2007 298.0525 303.0000 304.9300 302.2500 300.3600 302.4900 302.7100 310.0000\n",
       "2008 451.4286 517.1429 582.8571 648.5714 714.2857 780.0000 698.0000 607.5000\n",
       "2009 386.7900 418.0900 424.0450 430.0000 405.1800 404.2800 410.2300 395.7200\n",
       "2010 485.2800 421.7800 392.5700 371.1700 368.8200 358.2200 357.8600 422.8600\n",
       "2011 493.8600 478.5700 464.0000 484.2900 479.6400 475.2800 519.4600 553.4300\n",
       "2012 451.4300 430.4300 428.7500 440.7200 433.2900 411.9600 409.2800 436.4300\n",
       "2013 401.2400 401.6400 401.6100 390.7600 386.8500 385.9300 387.7400 399.4400\n",
       "2014 402.0000 393.1600 378.5700 370.9100 390.4800 404.5000 420.8700 442.6200\n",
       "2015 374.4200 353.5000 360.7400 354.0200 351.0000 349.0000 345.7800 340.1300\n",
       "2016 364.9100 360.1300 360.2000 371.0000 377.3100 372.4600 361.5700 347.4600\n",
       "2017 336.5500 335.3400 343.5600 344.6500 345.0000 357.1800 385.8700 390.3700\n",
       "2018 380.9400 395.4300 409.9200 413.4300 419.0000 443.1000 440.6500 401.5600\n",
       "2019 396.3100 367.9500 342.6200 341.1100 350.9400 358.8200 360.1600 362.3900\n",
       "2020 348.6800 357.4200 372.5800 407.1400 438.4200 449.4600 444.1900 448.9100\n",
       "2021 490.9800 500.4800 498.3800 488.1700 477.7000 474.0000 436.1700 384.4600\n",
       "2022 395.9400 384.2100 391.6700 402.3800 406.4500 411.9200 411.0900 395.8000\n",
       "     Sep      Oct      Nov      Dec     \n",
       "2004 224.1700 222.1400 233.0700 238.5100\n",
       "2005 257.0000 269.3600 272.0000 267.9300\n",
       "2006 267.7100 283.2100 288.1575 293.1050\n",
       "2007 315.2500 323.0000 320.0000 385.7143\n",
       "2008 561.7800 478.5700 431.0700 413.0000\n",
       "2009 392.8600 414.1100 491.6000 529.9100\n",
       "2010 457.6800 477.6800 508.0300 528.2900\n",
       "2011 561.4300 580.5400 568.7500 504.4300\n",
       "2012 455.1800 453.7400 448.3200 413.7500\n",
       "2013 362.0000 376.3200 395.8800 419.4100\n",
       "2014 442.0500 436.9600 422.0000 382.3900\n",
       "2015 326.4300 342.4000 353.6100 371.0000\n",
       "2016 342.7300 336.3900 338.0000 341.0000\n",
       "2017 382.0000 376.1900 379.0100 383.2400\n",
       "2018 384.6500 389.8000 395.7300 399.5200\n",
       "2019 350.8500 325.7900 328.2400 337.4300\n",
       "2020 462.6600 459.1700 469.5000 477.3900\n",
       "2021 387.3000 404.4600 411.4100 402.6600\n",
       "2022 391.7800                           "
      ]
     },
     "metadata": {},
     "output_type": "display_data"
    }
   ],
   "source": [
    "comp$x"
   ]
  },
  {
   "cell_type": "code",
   "execution_count": 10,
   "id": "4f04e38d-786d-4b38-952c-23ebd316d8d2",
   "metadata": {},
   "outputs": [
    {
     "data": {
      "text/html": [
       "<table class=\"dataframe\">\n",
       "<caption>A Time Series: 19 × 12</caption>\n",
       "<thead>\n",
       "\t<tr><th></th><th scope=col>Jan</th><th scope=col>Feb</th><th scope=col>Mar</th><th scope=col>Apr</th><th scope=col>May</th><th scope=col>Jun</th><th scope=col>Jul</th><th scope=col>Aug</th><th scope=col>Sep</th><th scope=col>Oct</th><th scope=col>Nov</th><th scope=col>Dec</th></tr>\n",
       "</thead>\n",
       "<tbody>\n",
       "\t<tr><th scope=row>2004</th><td>-3.347346</td><td>-5.801344</td><td>-5.645758</td><td>-1.050566</td><td> 3.258657</td><td> 6.945943</td><td> 2.964794</td><td> 1.595396</td><td>-2.624998</td><td>-2.488748</td><td> 2.550974</td><td> 3.642995</td></tr>\n",
       "\t<tr><th scope=row>2005</th><td>-3.347346</td><td>-5.801344</td><td>-5.645758</td><td>-1.050566</td><td> 3.258657</td><td> 6.945943</td><td> 2.964794</td><td> 1.595396</td><td>-2.624998</td><td>-2.488748</td><td> 2.550974</td><td> 3.642995</td></tr>\n",
       "\t<tr><th scope=row>2006</th><td>-3.347346</td><td>-5.801344</td><td>-5.645758</td><td>-1.050566</td><td> 3.258657</td><td> 6.945943</td><td> 2.964794</td><td> 1.595396</td><td>-2.624998</td><td>-2.488748</td><td> 2.550974</td><td> 3.642995</td></tr>\n",
       "\t<tr><th scope=row>2007</th><td>-3.347346</td><td>-5.801344</td><td>-5.645758</td><td>-1.050566</td><td> 3.258657</td><td> 6.945943</td><td> 2.964794</td><td> 1.595396</td><td>-2.624998</td><td>-2.488748</td><td> 2.550974</td><td> 3.642995</td></tr>\n",
       "\t<tr><th scope=row>2008</th><td>-3.347346</td><td>-5.801344</td><td>-5.645758</td><td>-1.050566</td><td> 3.258657</td><td> 6.945943</td><td> 2.964794</td><td> 1.595396</td><td>-2.624998</td><td>-2.488748</td><td> 2.550974</td><td> 3.642995</td></tr>\n",
       "\t<tr><th scope=row>2009</th><td>-3.347346</td><td>-5.801344</td><td>-5.645758</td><td>-1.050566</td><td> 3.258657</td><td> 6.945943</td><td> 2.964794</td><td> 1.595396</td><td>-2.624998</td><td>-2.488748</td><td> 2.550974</td><td> 3.642995</td></tr>\n",
       "\t<tr><th scope=row>2010</th><td>-3.347346</td><td>-5.801344</td><td>-5.645758</td><td>-1.050566</td><td> 3.258657</td><td> 6.945943</td><td> 2.964794</td><td> 1.595396</td><td>-2.624998</td><td>-2.488748</td><td> 2.550974</td><td> 3.642995</td></tr>\n",
       "\t<tr><th scope=row>2011</th><td>-3.347346</td><td>-5.801344</td><td>-5.645758</td><td>-1.050566</td><td> 3.258657</td><td> 6.945943</td><td> 2.964794</td><td> 1.595396</td><td>-2.624998</td><td>-2.488748</td><td> 2.550974</td><td> 3.642995</td></tr>\n",
       "\t<tr><th scope=row>2012</th><td>-3.347346</td><td>-5.801344</td><td>-5.645758</td><td>-1.050566</td><td> 3.258657</td><td> 6.945943</td><td> 2.964794</td><td> 1.595396</td><td>-2.624998</td><td>-2.488748</td><td> 2.550974</td><td> 3.642995</td></tr>\n",
       "\t<tr><th scope=row>2013</th><td>-3.347346</td><td>-5.801344</td><td>-5.645758</td><td>-1.050566</td><td> 3.258657</td><td> 6.945943</td><td> 2.964794</td><td> 1.595396</td><td>-2.624998</td><td>-2.488748</td><td> 2.550974</td><td> 3.642995</td></tr>\n",
       "\t<tr><th scope=row>2014</th><td>-3.347346</td><td>-5.801344</td><td>-5.645758</td><td>-1.050566</td><td> 3.258657</td><td> 6.945943</td><td> 2.964794</td><td> 1.595396</td><td>-2.624998</td><td>-2.488748</td><td> 2.550974</td><td> 3.642995</td></tr>\n",
       "\t<tr><th scope=row>2015</th><td>-3.347346</td><td>-5.801344</td><td>-5.645758</td><td>-1.050566</td><td> 3.258657</td><td> 6.945943</td><td> 2.964794</td><td> 1.595396</td><td>-2.624998</td><td>-2.488748</td><td> 2.550974</td><td> 3.642995</td></tr>\n",
       "\t<tr><th scope=row>2016</th><td>-3.347346</td><td>-5.801344</td><td>-5.645758</td><td>-1.050566</td><td> 3.258657</td><td> 6.945943</td><td> 2.964794</td><td> 1.595396</td><td>-2.624998</td><td>-2.488748</td><td> 2.550974</td><td> 3.642995</td></tr>\n",
       "\t<tr><th scope=row>2017</th><td>-3.347346</td><td>-5.801344</td><td>-5.645758</td><td>-1.050566</td><td> 3.258657</td><td> 6.945943</td><td> 2.964794</td><td> 1.595396</td><td>-2.624998</td><td>-2.488748</td><td> 2.550974</td><td> 3.642995</td></tr>\n",
       "\t<tr><th scope=row>2018</th><td>-3.347346</td><td>-5.801344</td><td>-5.645758</td><td>-1.050566</td><td> 3.258657</td><td> 6.945943</td><td> 2.964794</td><td> 1.595396</td><td>-2.624998</td><td>-2.488748</td><td> 2.550974</td><td> 3.642995</td></tr>\n",
       "\t<tr><th scope=row>2019</th><td>-3.347346</td><td>-5.801344</td><td>-5.645758</td><td>-1.050566</td><td> 3.258657</td><td> 6.945943</td><td> 2.964794</td><td> 1.595396</td><td>-2.624998</td><td>-2.488748</td><td> 2.550974</td><td> 3.642995</td></tr>\n",
       "\t<tr><th scope=row>2020</th><td>-3.347346</td><td>-5.801344</td><td>-5.645758</td><td>-1.050566</td><td> 3.258657</td><td> 6.945943</td><td> 2.964794</td><td> 1.595396</td><td>-2.624998</td><td>-2.488748</td><td> 2.550974</td><td> 3.642995</td></tr>\n",
       "\t<tr><th scope=row>2021</th><td>-3.347346</td><td>-5.801344</td><td>-5.645758</td><td>-1.050566</td><td> 3.258657</td><td> 6.945943</td><td> 2.964794</td><td> 1.595396</td><td>-2.624998</td><td>-2.488748</td><td> 2.550974</td><td> 3.642995</td></tr>\n",
       "\t<tr><th scope=row>2022</th><td>-3.347346</td><td>-5.801344</td><td>-5.645758</td><td>-1.050566</td><td> 3.258657</td><td> 6.945943</td><td> 2.964794</td><td> 1.595396</td><td>-2.624998</td><td>         </td><td>         </td><td>         </td></tr>\n",
       "</tbody>\n",
       "</table>\n"
      ],
      "text/latex": [
       "A Time Series: 19 × 12\n",
       "\\begin{tabular}{r|llllllllllll}\n",
       "  & Jan & Feb & Mar & Apr & May & Jun & Jul & Aug & Sep & Oct & Nov & Dec\\\\\n",
       "\\hline\n",
       "\t2004 & -3.347346 & -5.801344 & -5.645758 & -1.050566 &  3.258657 &  6.945943 &  2.964794 &  1.595396 & -2.624998 & -2.488748 &  2.550974 &  3.642995\\\\\n",
       "\t2005 & -3.347346 & -5.801344 & -5.645758 & -1.050566 &  3.258657 &  6.945943 &  2.964794 &  1.595396 & -2.624998 & -2.488748 &  2.550974 &  3.642995\\\\\n",
       "\t2006 & -3.347346 & -5.801344 & -5.645758 & -1.050566 &  3.258657 &  6.945943 &  2.964794 &  1.595396 & -2.624998 & -2.488748 &  2.550974 &  3.642995\\\\\n",
       "\t2007 & -3.347346 & -5.801344 & -5.645758 & -1.050566 &  3.258657 &  6.945943 &  2.964794 &  1.595396 & -2.624998 & -2.488748 &  2.550974 &  3.642995\\\\\n",
       "\t2008 & -3.347346 & -5.801344 & -5.645758 & -1.050566 &  3.258657 &  6.945943 &  2.964794 &  1.595396 & -2.624998 & -2.488748 &  2.550974 &  3.642995\\\\\n",
       "\t2009 & -3.347346 & -5.801344 & -5.645758 & -1.050566 &  3.258657 &  6.945943 &  2.964794 &  1.595396 & -2.624998 & -2.488748 &  2.550974 &  3.642995\\\\\n",
       "\t2010 & -3.347346 & -5.801344 & -5.645758 & -1.050566 &  3.258657 &  6.945943 &  2.964794 &  1.595396 & -2.624998 & -2.488748 &  2.550974 &  3.642995\\\\\n",
       "\t2011 & -3.347346 & -5.801344 & -5.645758 & -1.050566 &  3.258657 &  6.945943 &  2.964794 &  1.595396 & -2.624998 & -2.488748 &  2.550974 &  3.642995\\\\\n",
       "\t2012 & -3.347346 & -5.801344 & -5.645758 & -1.050566 &  3.258657 &  6.945943 &  2.964794 &  1.595396 & -2.624998 & -2.488748 &  2.550974 &  3.642995\\\\\n",
       "\t2013 & -3.347346 & -5.801344 & -5.645758 & -1.050566 &  3.258657 &  6.945943 &  2.964794 &  1.595396 & -2.624998 & -2.488748 &  2.550974 &  3.642995\\\\\n",
       "\t2014 & -3.347346 & -5.801344 & -5.645758 & -1.050566 &  3.258657 &  6.945943 &  2.964794 &  1.595396 & -2.624998 & -2.488748 &  2.550974 &  3.642995\\\\\n",
       "\t2015 & -3.347346 & -5.801344 & -5.645758 & -1.050566 &  3.258657 &  6.945943 &  2.964794 &  1.595396 & -2.624998 & -2.488748 &  2.550974 &  3.642995\\\\\n",
       "\t2016 & -3.347346 & -5.801344 & -5.645758 & -1.050566 &  3.258657 &  6.945943 &  2.964794 &  1.595396 & -2.624998 & -2.488748 &  2.550974 &  3.642995\\\\\n",
       "\t2017 & -3.347346 & -5.801344 & -5.645758 & -1.050566 &  3.258657 &  6.945943 &  2.964794 &  1.595396 & -2.624998 & -2.488748 &  2.550974 &  3.642995\\\\\n",
       "\t2018 & -3.347346 & -5.801344 & -5.645758 & -1.050566 &  3.258657 &  6.945943 &  2.964794 &  1.595396 & -2.624998 & -2.488748 &  2.550974 &  3.642995\\\\\n",
       "\t2019 & -3.347346 & -5.801344 & -5.645758 & -1.050566 &  3.258657 &  6.945943 &  2.964794 &  1.595396 & -2.624998 & -2.488748 &  2.550974 &  3.642995\\\\\n",
       "\t2020 & -3.347346 & -5.801344 & -5.645758 & -1.050566 &  3.258657 &  6.945943 &  2.964794 &  1.595396 & -2.624998 & -2.488748 &  2.550974 &  3.642995\\\\\n",
       "\t2021 & -3.347346 & -5.801344 & -5.645758 & -1.050566 &  3.258657 &  6.945943 &  2.964794 &  1.595396 & -2.624998 & -2.488748 &  2.550974 &  3.642995\\\\\n",
       "\t2022 & -3.347346 & -5.801344 & -5.645758 & -1.050566 &  3.258657 &  6.945943 &  2.964794 &  1.595396 & -2.624998 &           &           &          \\\\\n",
       "\\end{tabular}\n"
      ],
      "text/markdown": [
       "\n",
       "A Time Series: 19 × 12\n",
       "\n",
       "| <!--/--> | Jan | Feb | Mar | Apr | May | Jun | Jul | Aug | Sep | Oct | Nov | Dec |\n",
       "|---|---|---|---|---|---|---|---|---|---|---|---|---|\n",
       "| 2004 | -3.347346 | -5.801344 | -5.645758 | -1.050566 |  3.258657 |  6.945943 |  2.964794 |  1.595396 | -2.624998 | -2.488748 |  2.550974 |  3.642995 |\n",
       "| 2005 | -3.347346 | -5.801344 | -5.645758 | -1.050566 |  3.258657 |  6.945943 |  2.964794 |  1.595396 | -2.624998 | -2.488748 |  2.550974 |  3.642995 |\n",
       "| 2006 | -3.347346 | -5.801344 | -5.645758 | -1.050566 |  3.258657 |  6.945943 |  2.964794 |  1.595396 | -2.624998 | -2.488748 |  2.550974 |  3.642995 |\n",
       "| 2007 | -3.347346 | -5.801344 | -5.645758 | -1.050566 |  3.258657 |  6.945943 |  2.964794 |  1.595396 | -2.624998 | -2.488748 |  2.550974 |  3.642995 |\n",
       "| 2008 | -3.347346 | -5.801344 | -5.645758 | -1.050566 |  3.258657 |  6.945943 |  2.964794 |  1.595396 | -2.624998 | -2.488748 |  2.550974 |  3.642995 |\n",
       "| 2009 | -3.347346 | -5.801344 | -5.645758 | -1.050566 |  3.258657 |  6.945943 |  2.964794 |  1.595396 | -2.624998 | -2.488748 |  2.550974 |  3.642995 |\n",
       "| 2010 | -3.347346 | -5.801344 | -5.645758 | -1.050566 |  3.258657 |  6.945943 |  2.964794 |  1.595396 | -2.624998 | -2.488748 |  2.550974 |  3.642995 |\n",
       "| 2011 | -3.347346 | -5.801344 | -5.645758 | -1.050566 |  3.258657 |  6.945943 |  2.964794 |  1.595396 | -2.624998 | -2.488748 |  2.550974 |  3.642995 |\n",
       "| 2012 | -3.347346 | -5.801344 | -5.645758 | -1.050566 |  3.258657 |  6.945943 |  2.964794 |  1.595396 | -2.624998 | -2.488748 |  2.550974 |  3.642995 |\n",
       "| 2013 | -3.347346 | -5.801344 | -5.645758 | -1.050566 |  3.258657 |  6.945943 |  2.964794 |  1.595396 | -2.624998 | -2.488748 |  2.550974 |  3.642995 |\n",
       "| 2014 | -3.347346 | -5.801344 | -5.645758 | -1.050566 |  3.258657 |  6.945943 |  2.964794 |  1.595396 | -2.624998 | -2.488748 |  2.550974 |  3.642995 |\n",
       "| 2015 | -3.347346 | -5.801344 | -5.645758 | -1.050566 |  3.258657 |  6.945943 |  2.964794 |  1.595396 | -2.624998 | -2.488748 |  2.550974 |  3.642995 |\n",
       "| 2016 | -3.347346 | -5.801344 | -5.645758 | -1.050566 |  3.258657 |  6.945943 |  2.964794 |  1.595396 | -2.624998 | -2.488748 |  2.550974 |  3.642995 |\n",
       "| 2017 | -3.347346 | -5.801344 | -5.645758 | -1.050566 |  3.258657 |  6.945943 |  2.964794 |  1.595396 | -2.624998 | -2.488748 |  2.550974 |  3.642995 |\n",
       "| 2018 | -3.347346 | -5.801344 | -5.645758 | -1.050566 |  3.258657 |  6.945943 |  2.964794 |  1.595396 | -2.624998 | -2.488748 |  2.550974 |  3.642995 |\n",
       "| 2019 | -3.347346 | -5.801344 | -5.645758 | -1.050566 |  3.258657 |  6.945943 |  2.964794 |  1.595396 | -2.624998 | -2.488748 |  2.550974 |  3.642995 |\n",
       "| 2020 | -3.347346 | -5.801344 | -5.645758 | -1.050566 |  3.258657 |  6.945943 |  2.964794 |  1.595396 | -2.624998 | -2.488748 |  2.550974 |  3.642995 |\n",
       "| 2021 | -3.347346 | -5.801344 | -5.645758 | -1.050566 |  3.258657 |  6.945943 |  2.964794 |  1.595396 | -2.624998 | -2.488748 |  2.550974 |  3.642995 |\n",
       "| 2022 | -3.347346 | -5.801344 | -5.645758 | -1.050566 |  3.258657 |  6.945943 |  2.964794 |  1.595396 | -2.624998 | <!----> | <!----> | <!----> |\n",
       "\n"
      ],
      "text/plain": [
       "     Jan       Feb       Mar       Apr       May       Jun       Jul      \n",
       "2004 -3.347346 -5.801344 -5.645758 -1.050566  3.258657  6.945943  2.964794\n",
       "2005 -3.347346 -5.801344 -5.645758 -1.050566  3.258657  6.945943  2.964794\n",
       "2006 -3.347346 -5.801344 -5.645758 -1.050566  3.258657  6.945943  2.964794\n",
       "2007 -3.347346 -5.801344 -5.645758 -1.050566  3.258657  6.945943  2.964794\n",
       "2008 -3.347346 -5.801344 -5.645758 -1.050566  3.258657  6.945943  2.964794\n",
       "2009 -3.347346 -5.801344 -5.645758 -1.050566  3.258657  6.945943  2.964794\n",
       "2010 -3.347346 -5.801344 -5.645758 -1.050566  3.258657  6.945943  2.964794\n",
       "2011 -3.347346 -5.801344 -5.645758 -1.050566  3.258657  6.945943  2.964794\n",
       "2012 -3.347346 -5.801344 -5.645758 -1.050566  3.258657  6.945943  2.964794\n",
       "2013 -3.347346 -5.801344 -5.645758 -1.050566  3.258657  6.945943  2.964794\n",
       "2014 -3.347346 -5.801344 -5.645758 -1.050566  3.258657  6.945943  2.964794\n",
       "2015 -3.347346 -5.801344 -5.645758 -1.050566  3.258657  6.945943  2.964794\n",
       "2016 -3.347346 -5.801344 -5.645758 -1.050566  3.258657  6.945943  2.964794\n",
       "2017 -3.347346 -5.801344 -5.645758 -1.050566  3.258657  6.945943  2.964794\n",
       "2018 -3.347346 -5.801344 -5.645758 -1.050566  3.258657  6.945943  2.964794\n",
       "2019 -3.347346 -5.801344 -5.645758 -1.050566  3.258657  6.945943  2.964794\n",
       "2020 -3.347346 -5.801344 -5.645758 -1.050566  3.258657  6.945943  2.964794\n",
       "2021 -3.347346 -5.801344 -5.645758 -1.050566  3.258657  6.945943  2.964794\n",
       "2022 -3.347346 -5.801344 -5.645758 -1.050566  3.258657  6.945943  2.964794\n",
       "     Aug       Sep       Oct       Nov       Dec      \n",
       "2004  1.595396 -2.624998 -2.488748  2.550974  3.642995\n",
       "2005  1.595396 -2.624998 -2.488748  2.550974  3.642995\n",
       "2006  1.595396 -2.624998 -2.488748  2.550974  3.642995\n",
       "2007  1.595396 -2.624998 -2.488748  2.550974  3.642995\n",
       "2008  1.595396 -2.624998 -2.488748  2.550974  3.642995\n",
       "2009  1.595396 -2.624998 -2.488748  2.550974  3.642995\n",
       "2010  1.595396 -2.624998 -2.488748  2.550974  3.642995\n",
       "2011  1.595396 -2.624998 -2.488748  2.550974  3.642995\n",
       "2012  1.595396 -2.624998 -2.488748  2.550974  3.642995\n",
       "2013  1.595396 -2.624998 -2.488748  2.550974  3.642995\n",
       "2014  1.595396 -2.624998 -2.488748  2.550974  3.642995\n",
       "2015  1.595396 -2.624998 -2.488748  2.550974  3.642995\n",
       "2016  1.595396 -2.624998 -2.488748  2.550974  3.642995\n",
       "2017  1.595396 -2.624998 -2.488748  2.550974  3.642995\n",
       "2018  1.595396 -2.624998 -2.488748  2.550974  3.642995\n",
       "2019  1.595396 -2.624998 -2.488748  2.550974  3.642995\n",
       "2020  1.595396 -2.624998 -2.488748  2.550974  3.642995\n",
       "2021  1.595396 -2.624998 -2.488748  2.550974  3.642995\n",
       "2022  1.595396 -2.624998                              "
      ]
     },
     "metadata": {},
     "output_type": "display_data"
    }
   ],
   "source": [
    "comp$seasonal"
   ]
  },
  {
   "cell_type": "code",
   "execution_count": 11,
   "id": "07d03d12-7049-4248-9b50-d484f2dd3c51",
   "metadata": {},
   "outputs": [
    {
     "data": {
      "text/html": [
       "<table class=\"dataframe\">\n",
       "<caption>A Time Series: 19 × 12</caption>\n",
       "<thead>\n",
       "\t<tr><th></th><th scope=col>Jan</th><th scope=col>Feb</th><th scope=col>Mar</th><th scope=col>Apr</th><th scope=col>May</th><th scope=col>Jun</th><th scope=col>Jul</th><th scope=col>Aug</th><th scope=col>Sep</th><th scope=col>Oct</th><th scope=col>Nov</th><th scope=col>Dec</th></tr>\n",
       "</thead>\n",
       "<tbody>\n",
       "\t<tr><th scope=row>2004</th><td>      NA</td><td>      NA</td><td>      NA</td><td>      NA</td><td>      NA</td><td>      NA</td><td>228.6750</td><td>233.5946</td><td>237.7067</td><td>240.0538</td><td>241.6875</td><td>242.9687</td></tr>\n",
       "\t<tr><th scope=row>2005</th><td>243.7633</td><td>245.0654</td><td>247.3887</td><td>250.7242</td><td>254.3137</td><td>257.1617</td><td>258.7433</td><td>259.0429</td><td>258.2342</td><td>256.8288</td><td>256.1796</td><td>256.9308</td></tr>\n",
       "\t<tr><th scope=row>2006</th><td>258.5179</td><td>259.6900</td><td>260.4688</td><td>261.4921</td><td>262.7424</td><td>264.4646</td><td>266.9382</td><td>269.9758</td><td>274.0917</td><td>279.0112</td><td>283.2667</td><td>286.8996</td></tr>\n",
       "\t<tr><th scope=row>2007</th><td>290.5804</td><td>294.3992</td><td>298.3121</td><td>301.9508</td><td>304.9355</td><td>310.1210</td><td>320.3704</td><td>335.6837</td><td>356.1866</td><td>382.1970</td><td>413.8739</td><td>451.0171</td></tr>\n",
       "\t<tr><th scope=row>2008</th><td>487.3837</td><td>516.2500</td><td>538.9179</td><td>555.6721</td><td>566.7821</td><td>572.5469</td><td>570.9905</td><td>564.1701</td><td>553.4257</td><td>537.7014</td><td>515.7148</td><td>487.1804</td></tr>\n",
       "\t<tr><th scope=row>2009</th><td>459.5350</td><td>438.7204</td><td>422.8579</td><td>413.1337</td><td>412.9700</td><td>420.3633</td><td>429.3383</td><td>433.5958</td><td>432.4381</td><td>428.6754</td><td>424.7092</td><td>421.2750</td></tr>\n",
       "\t<tr><th scope=row>2010</th><td>417.1738</td><td>416.1225</td><td>419.9542</td><td>425.3038</td><td>428.6371</td><td>429.2542</td><td>429.5442</td><td>432.2679</td><td>437.6104</td><td>445.3000</td><td>454.6308</td><td>464.1258</td></tr>\n",
       "\t<tr><th scope=row>2011</th><td>475.7367</td><td>487.9104</td><td>497.6737</td><td>506.2825</td><td>513.0983</td><td>514.6342</td><td>511.8721</td><td>508.0983</td><td>504.6238</td><td>501.3396</td><td>497.5929</td><td>493.0233</td></tr>\n",
       "\t<tr><th scope=row>2012</th><td>485.7942</td><td>476.3283</td><td>467.0262</td><td>457.3158</td><td>447.0146</td><td>438.2183</td><td>432.3488</td><td>429.0579</td><td>426.7275</td><td>423.5150</td><td>419.4983</td><td>416.4788</td></tr>\n",
       "\t<tr><th scope=row>2013</th><td>414.4967</td><td>412.0579</td><td>406.6342</td><td>399.5258</td><td>394.1150</td><td>392.1658</td><td>392.4333</td><td>392.1117</td><td>390.7983</td><td>389.0113</td><td>388.3354</td><td>389.2604</td></tr>\n",
       "\t<tr><th scope=row>2014</th><td>391.4146</td><td>394.5942</td><td>399.7287</td><td>405.5908</td><td>409.2058</td><td>408.7517</td><td>406.0600</td><td>403.2583</td><td>400.8629</td><td>399.4162</td><td>397.0675</td><td>393.1100</td></tr>\n",
       "\t<tr><th scope=row>2015</th><td>387.6688</td><td>380.2696</td><td>371.1817</td><td>362.4242</td><td>355.6346</td><td>352.3104</td><td>351.4396</td><td>351.3196</td><td>351.5733</td><td>352.2583</td><td>354.0621</td><td>356.1358</td></tr>\n",
       "\t<tr><th scope=row>2016</th><td>357.7712</td><td>358.7346</td><td>359.7192</td><td>360.1479</td><td>359.2471</td><td>357.3467</td><td>354.9150</td><td>352.7004</td><td>350.9742</td><td>349.1829</td><td>346.7387</td><td>344.7558</td></tr>\n",
       "\t<tr><th scope=row>2017</th><td>345.1317</td><td>347.9321</td><td>351.3562</td><td>354.6508</td><td>358.0179</td><td>361.4867</td><td>365.0962</td><td>369.4496</td><td>374.7183</td><td>380.3492</td><td>386.2983</td><td>392.9617</td></tr>\n",
       "\t<tr><th scope=row>2018</th><td>398.8242</td><td>401.5729</td><td>402.1496</td><td>402.8271</td><td>404.0908</td><td>405.4658</td><td>406.7846</td><td>406.2800</td><td>402.3308</td><td>396.5133</td><td>390.6642</td><td>384.3167</td></tr>\n",
       "\t<tr><th scope=row>2019</th><td>377.4512</td><td>372.4654</td><td>369.4250</td><td>365.3496</td><td>359.8704</td><td>354.4712</td><td>349.8996</td><td>347.4762</td><td>348.2858</td><td>352.2854</td><td>358.6817</td><td>366.1033</td></tr>\n",
       "\t<tr><th scope=row>2020</th><td>373.3812</td><td>380.4875</td><td>388.7513</td><td>398.9675</td><td>410.4108</td><td>422.1283</td><td>433.8892</td><td>445.7792</td><td>456.9817</td><td>465.5996</td><td>470.6125</td><td>473.2717</td></tr>\n",
       "\t<tr><th scope=row>2021</th><td>473.9600</td><td>470.9404</td><td>465.1150</td><td>459.6954</td><td>454.9954</td><td>449.4612</td><td>442.3875</td><td>433.5829</td><td>424.2921</td><td>416.2712</td><td>409.7279</td><td>404.1725</td></tr>\n",
       "\t<tr><th scope=row>2022</th><td>400.5408</td><td>399.9683</td><td>400.6275</td><td>      NA</td><td>      NA</td><td>      NA</td><td>      NA</td><td>      NA</td><td>      NA</td><td>        </td><td>        </td><td>        </td></tr>\n",
       "</tbody>\n",
       "</table>\n"
      ],
      "text/latex": [
       "A Time Series: 19 × 12\n",
       "\\begin{tabular}{r|llllllllllll}\n",
       "  & Jan & Feb & Mar & Apr & May & Jun & Jul & Aug & Sep & Oct & Nov & Dec\\\\\n",
       "\\hline\n",
       "\t2004 &       NA &       NA &       NA &       NA &       NA &       NA & 228.6750 & 233.5946 & 237.7067 & 240.0538 & 241.6875 & 242.9687\\\\\n",
       "\t2005 & 243.7633 & 245.0654 & 247.3887 & 250.7242 & 254.3137 & 257.1617 & 258.7433 & 259.0429 & 258.2342 & 256.8288 & 256.1796 & 256.9308\\\\\n",
       "\t2006 & 258.5179 & 259.6900 & 260.4688 & 261.4921 & 262.7424 & 264.4646 & 266.9382 & 269.9758 & 274.0917 & 279.0112 & 283.2667 & 286.8996\\\\\n",
       "\t2007 & 290.5804 & 294.3992 & 298.3121 & 301.9508 & 304.9355 & 310.1210 & 320.3704 & 335.6837 & 356.1866 & 382.1970 & 413.8739 & 451.0171\\\\\n",
       "\t2008 & 487.3837 & 516.2500 & 538.9179 & 555.6721 & 566.7821 & 572.5469 & 570.9905 & 564.1701 & 553.4257 & 537.7014 & 515.7148 & 487.1804\\\\\n",
       "\t2009 & 459.5350 & 438.7204 & 422.8579 & 413.1337 & 412.9700 & 420.3633 & 429.3383 & 433.5958 & 432.4381 & 428.6754 & 424.7092 & 421.2750\\\\\n",
       "\t2010 & 417.1738 & 416.1225 & 419.9542 & 425.3038 & 428.6371 & 429.2542 & 429.5442 & 432.2679 & 437.6104 & 445.3000 & 454.6308 & 464.1258\\\\\n",
       "\t2011 & 475.7367 & 487.9104 & 497.6737 & 506.2825 & 513.0983 & 514.6342 & 511.8721 & 508.0983 & 504.6238 & 501.3396 & 497.5929 & 493.0233\\\\\n",
       "\t2012 & 485.7942 & 476.3283 & 467.0262 & 457.3158 & 447.0146 & 438.2183 & 432.3488 & 429.0579 & 426.7275 & 423.5150 & 419.4983 & 416.4788\\\\\n",
       "\t2013 & 414.4967 & 412.0579 & 406.6342 & 399.5258 & 394.1150 & 392.1658 & 392.4333 & 392.1117 & 390.7983 & 389.0113 & 388.3354 & 389.2604\\\\\n",
       "\t2014 & 391.4146 & 394.5942 & 399.7287 & 405.5908 & 409.2058 & 408.7517 & 406.0600 & 403.2583 & 400.8629 & 399.4162 & 397.0675 & 393.1100\\\\\n",
       "\t2015 & 387.6688 & 380.2696 & 371.1817 & 362.4242 & 355.6346 & 352.3104 & 351.4396 & 351.3196 & 351.5733 & 352.2583 & 354.0621 & 356.1358\\\\\n",
       "\t2016 & 357.7712 & 358.7346 & 359.7192 & 360.1479 & 359.2471 & 357.3467 & 354.9150 & 352.7004 & 350.9742 & 349.1829 & 346.7387 & 344.7558\\\\\n",
       "\t2017 & 345.1317 & 347.9321 & 351.3562 & 354.6508 & 358.0179 & 361.4867 & 365.0962 & 369.4496 & 374.7183 & 380.3492 & 386.2983 & 392.9617\\\\\n",
       "\t2018 & 398.8242 & 401.5729 & 402.1496 & 402.8271 & 404.0908 & 405.4658 & 406.7846 & 406.2800 & 402.3308 & 396.5133 & 390.6642 & 384.3167\\\\\n",
       "\t2019 & 377.4512 & 372.4654 & 369.4250 & 365.3496 & 359.8704 & 354.4712 & 349.8996 & 347.4762 & 348.2858 & 352.2854 & 358.6817 & 366.1033\\\\\n",
       "\t2020 & 373.3812 & 380.4875 & 388.7513 & 398.9675 & 410.4108 & 422.1283 & 433.8892 & 445.7792 & 456.9817 & 465.5996 & 470.6125 & 473.2717\\\\\n",
       "\t2021 & 473.9600 & 470.9404 & 465.1150 & 459.6954 & 454.9954 & 449.4612 & 442.3875 & 433.5829 & 424.2921 & 416.2712 & 409.7279 & 404.1725\\\\\n",
       "\t2022 & 400.5408 & 399.9683 & 400.6275 &       NA &       NA &       NA &       NA &       NA &       NA &          &          &         \\\\\n",
       "\\end{tabular}\n"
      ],
      "text/markdown": [
       "\n",
       "A Time Series: 19 × 12\n",
       "\n",
       "| <!--/--> | Jan | Feb | Mar | Apr | May | Jun | Jul | Aug | Sep | Oct | Nov | Dec |\n",
       "|---|---|---|---|---|---|---|---|---|---|---|---|---|\n",
       "| 2004 |       NA |       NA |       NA |       NA |       NA |       NA | 228.6750 | 233.5946 | 237.7067 | 240.0538 | 241.6875 | 242.9687 |\n",
       "| 2005 | 243.7633 | 245.0654 | 247.3887 | 250.7242 | 254.3137 | 257.1617 | 258.7433 | 259.0429 | 258.2342 | 256.8288 | 256.1796 | 256.9308 |\n",
       "| 2006 | 258.5179 | 259.6900 | 260.4688 | 261.4921 | 262.7424 | 264.4646 | 266.9382 | 269.9758 | 274.0917 | 279.0112 | 283.2667 | 286.8996 |\n",
       "| 2007 | 290.5804 | 294.3992 | 298.3121 | 301.9508 | 304.9355 | 310.1210 | 320.3704 | 335.6837 | 356.1866 | 382.1970 | 413.8739 | 451.0171 |\n",
       "| 2008 | 487.3837 | 516.2500 | 538.9179 | 555.6721 | 566.7821 | 572.5469 | 570.9905 | 564.1701 | 553.4257 | 537.7014 | 515.7148 | 487.1804 |\n",
       "| 2009 | 459.5350 | 438.7204 | 422.8579 | 413.1337 | 412.9700 | 420.3633 | 429.3383 | 433.5958 | 432.4381 | 428.6754 | 424.7092 | 421.2750 |\n",
       "| 2010 | 417.1738 | 416.1225 | 419.9542 | 425.3038 | 428.6371 | 429.2542 | 429.5442 | 432.2679 | 437.6104 | 445.3000 | 454.6308 | 464.1258 |\n",
       "| 2011 | 475.7367 | 487.9104 | 497.6737 | 506.2825 | 513.0983 | 514.6342 | 511.8721 | 508.0983 | 504.6238 | 501.3396 | 497.5929 | 493.0233 |\n",
       "| 2012 | 485.7942 | 476.3283 | 467.0262 | 457.3158 | 447.0146 | 438.2183 | 432.3488 | 429.0579 | 426.7275 | 423.5150 | 419.4983 | 416.4788 |\n",
       "| 2013 | 414.4967 | 412.0579 | 406.6342 | 399.5258 | 394.1150 | 392.1658 | 392.4333 | 392.1117 | 390.7983 | 389.0113 | 388.3354 | 389.2604 |\n",
       "| 2014 | 391.4146 | 394.5942 | 399.7287 | 405.5908 | 409.2058 | 408.7517 | 406.0600 | 403.2583 | 400.8629 | 399.4162 | 397.0675 | 393.1100 |\n",
       "| 2015 | 387.6688 | 380.2696 | 371.1817 | 362.4242 | 355.6346 | 352.3104 | 351.4396 | 351.3196 | 351.5733 | 352.2583 | 354.0621 | 356.1358 |\n",
       "| 2016 | 357.7712 | 358.7346 | 359.7192 | 360.1479 | 359.2471 | 357.3467 | 354.9150 | 352.7004 | 350.9742 | 349.1829 | 346.7387 | 344.7558 |\n",
       "| 2017 | 345.1317 | 347.9321 | 351.3562 | 354.6508 | 358.0179 | 361.4867 | 365.0962 | 369.4496 | 374.7183 | 380.3492 | 386.2983 | 392.9617 |\n",
       "| 2018 | 398.8242 | 401.5729 | 402.1496 | 402.8271 | 404.0908 | 405.4658 | 406.7846 | 406.2800 | 402.3308 | 396.5133 | 390.6642 | 384.3167 |\n",
       "| 2019 | 377.4512 | 372.4654 | 369.4250 | 365.3496 | 359.8704 | 354.4712 | 349.8996 | 347.4762 | 348.2858 | 352.2854 | 358.6817 | 366.1033 |\n",
       "| 2020 | 373.3812 | 380.4875 | 388.7513 | 398.9675 | 410.4108 | 422.1283 | 433.8892 | 445.7792 | 456.9817 | 465.5996 | 470.6125 | 473.2717 |\n",
       "| 2021 | 473.9600 | 470.9404 | 465.1150 | 459.6954 | 454.9954 | 449.4612 | 442.3875 | 433.5829 | 424.2921 | 416.2712 | 409.7279 | 404.1725 |\n",
       "| 2022 | 400.5408 | 399.9683 | 400.6275 |       NA |       NA |       NA |       NA |       NA |       NA | <!----> | <!----> | <!----> |\n",
       "\n"
      ],
      "text/plain": [
       "     Jan      Feb      Mar      Apr      May      Jun      Jul      Aug     \n",
       "2004       NA       NA       NA       NA       NA       NA 228.6750 233.5946\n",
       "2005 243.7633 245.0654 247.3887 250.7242 254.3137 257.1617 258.7433 259.0429\n",
       "2006 258.5179 259.6900 260.4688 261.4921 262.7424 264.4646 266.9382 269.9758\n",
       "2007 290.5804 294.3992 298.3121 301.9508 304.9355 310.1210 320.3704 335.6837\n",
       "2008 487.3837 516.2500 538.9179 555.6721 566.7821 572.5469 570.9905 564.1701\n",
       "2009 459.5350 438.7204 422.8579 413.1337 412.9700 420.3633 429.3383 433.5958\n",
       "2010 417.1738 416.1225 419.9542 425.3038 428.6371 429.2542 429.5442 432.2679\n",
       "2011 475.7367 487.9104 497.6737 506.2825 513.0983 514.6342 511.8721 508.0983\n",
       "2012 485.7942 476.3283 467.0262 457.3158 447.0146 438.2183 432.3488 429.0579\n",
       "2013 414.4967 412.0579 406.6342 399.5258 394.1150 392.1658 392.4333 392.1117\n",
       "2014 391.4146 394.5942 399.7287 405.5908 409.2058 408.7517 406.0600 403.2583\n",
       "2015 387.6688 380.2696 371.1817 362.4242 355.6346 352.3104 351.4396 351.3196\n",
       "2016 357.7712 358.7346 359.7192 360.1479 359.2471 357.3467 354.9150 352.7004\n",
       "2017 345.1317 347.9321 351.3562 354.6508 358.0179 361.4867 365.0962 369.4496\n",
       "2018 398.8242 401.5729 402.1496 402.8271 404.0908 405.4658 406.7846 406.2800\n",
       "2019 377.4512 372.4654 369.4250 365.3496 359.8704 354.4712 349.8996 347.4762\n",
       "2020 373.3812 380.4875 388.7513 398.9675 410.4108 422.1283 433.8892 445.7792\n",
       "2021 473.9600 470.9404 465.1150 459.6954 454.9954 449.4612 442.3875 433.5829\n",
       "2022 400.5408 399.9683 400.6275       NA       NA       NA       NA       NA\n",
       "     Sep      Oct      Nov      Dec     \n",
       "2004 237.7067 240.0538 241.6875 242.9687\n",
       "2005 258.2342 256.8288 256.1796 256.9308\n",
       "2006 274.0917 279.0112 283.2667 286.8996\n",
       "2007 356.1866 382.1970 413.8739 451.0171\n",
       "2008 553.4257 537.7014 515.7148 487.1804\n",
       "2009 432.4381 428.6754 424.7092 421.2750\n",
       "2010 437.6104 445.3000 454.6308 464.1258\n",
       "2011 504.6238 501.3396 497.5929 493.0233\n",
       "2012 426.7275 423.5150 419.4983 416.4788\n",
       "2013 390.7983 389.0113 388.3354 389.2604\n",
       "2014 400.8629 399.4162 397.0675 393.1100\n",
       "2015 351.5733 352.2583 354.0621 356.1358\n",
       "2016 350.9742 349.1829 346.7387 344.7558\n",
       "2017 374.7183 380.3492 386.2983 392.9617\n",
       "2018 402.3308 396.5133 390.6642 384.3167\n",
       "2019 348.2858 352.2854 358.6817 366.1033\n",
       "2020 456.9817 465.5996 470.6125 473.2717\n",
       "2021 424.2921 416.2712 409.7279 404.1725\n",
       "2022       NA                           "
      ]
     },
     "metadata": {},
     "output_type": "display_data"
    }
   ],
   "source": [
    "comp$trend"
   ]
  },
  {
   "cell_type": "code",
   "execution_count": 12,
   "id": "2454733e-25a0-419d-be12-23ebebcdeeaa",
   "metadata": {},
   "outputs": [
    {
     "data": {
      "text/html": [
       "<table class=\"dataframe\">\n",
       "<caption>A Time Series: 19 × 12</caption>\n",
       "<thead>\n",
       "\t<tr><th></th><th scope=col>Jan</th><th scope=col>Feb</th><th scope=col>Mar</th><th scope=col>Apr</th><th scope=col>May</th><th scope=col>Jun</th><th scope=col>Jul</th><th scope=col>Aug</th><th scope=col>Sep</th><th scope=col>Oct</th><th scope=col>Nov</th><th scope=col>Dec</th></tr>\n",
       "</thead>\n",
       "<tbody>\n",
       "\t<tr><th scope=row>2004</th><td>         NA</td><td>         NA</td><td>         NA</td><td>         NA</td><td>         NA</td><td>         NA</td><td> -2.6797939</td><td> -2.4699791</td><td>-10.9116689</td><td>-15.4250023</td><td>-11.1684745</td><td> -8.1017450</td></tr>\n",
       "\t<tr><th scope=row>2005</th><td> 14.9040123</td><td> 26.3759270</td><td> 21.1770083</td><td> 10.2463993</td><td> -1.4324067</td><td>-22.6176098</td><td>-24.4281273</td><td> -4.9883124</td><td>  1.3908311</td><td> 15.0199977</td><td> 13.2694422</td><td>  7.3561717</td></tr>\n",
       "\t<tr><th scope=row>2006</th><td>  8.6894290</td><td> 10.4013436</td><td> -9.9629917</td><td>-16.1915174</td><td> -9.7710526</td><td>-11.9805265</td><td>-12.4730231</td><td> -7.9412291</td><td> -3.7566689</td><td>  6.6874977</td><td>  2.3398589</td><td>  2.5624217</td></tr>\n",
       "\t<tr><th scope=row>2007</th><td> 10.8194290</td><td> 14.4021770</td><td> 12.2636750</td><td>  1.3497326</td><td> -7.8341776</td><td>-14.5769551</td><td>-20.6251957</td><td>-27.2790862</td><td>-38.3116094</td><td>-56.7082165</td><td>-96.4249030</td><td>-68.9457926</td></tr>\n",
       "\t<tr><th scope=row>2008</th><td>-32.6078330</td><td>  6.6942007</td><td> 49.5849846</td><td> 93.9499112</td><td>144.2449742</td><td>200.5071521</td><td>124.0446704</td><td> 41.7345447</td><td> 10.9793132</td><td>-56.6426213</td><td>-87.1957959</td><td>-77.8234116</td></tr>\n",
       "\t<tr><th scope=row>2009</th><td>-69.3976544</td><td>-14.8290730</td><td>  6.8328417</td><td> 17.9168159</td><td>-11.0486567</td><td>-23.0292765</td><td>-22.0731273</td><td>-39.4712291</td><td>-36.9531273</td><td>-12.0766689</td><td> 64.3398589</td><td>104.9920050</td></tr>\n",
       "\t<tr><th scope=row>2010</th><td> 71.4535956</td><td> 11.4588436</td><td>-21.7384083</td><td>-53.0831841</td><td>-63.0757401</td><td>-77.9801098</td><td>-74.6489606</td><td>-11.0033124</td><td> 22.6945811</td><td> 34.8687477</td><td> 50.8481922</td><td> 60.5211717</td></tr>\n",
       "\t<tr><th scope=row>2011</th><td> 21.4706790</td><td> -3.5390730</td><td>-28.0279917</td><td>-20.9419341</td><td>-36.7169901</td><td>-46.3001098</td><td>  4.6231227</td><td> 43.7362709</td><td> 59.4312477</td><td> 81.6891644</td><td> 68.6061089</td><td>  7.7636717</td></tr>\n",
       "\t<tr><th scope=row>2012</th><td>-31.0168210</td><td>-40.0969897</td><td>-32.6304917</td><td>-15.5452674</td><td>-16.9832401</td><td>-33.2042765</td><td>-26.0335439</td><td>  5.7766876</td><td> 31.0774977</td><td> 32.7137477</td><td> 26.2706922</td><td> -6.3717450</td></tr>\n",
       "\t<tr><th scope=row>2013</th><td> -9.9093210</td><td> -4.6165730</td><td>  0.6215917</td><td> -7.7152674</td><td>-10.5236567</td><td>-13.1817765</td><td> -7.6581273</td><td>  5.7329376</td><td>-26.1733356</td><td>-10.2025023</td><td>  4.9936089</td><td> 26.5065884</td></tr>\n",
       "\t<tr><th scope=row>2014</th><td> 13.9327623</td><td>  4.3671770</td><td>-15.5129917</td><td>-33.6302674</td><td>-21.9844901</td><td>-11.1976098</td><td> 11.8452061</td><td> 37.7662709</td><td> 43.8120811</td><td> 40.0324977</td><td> 22.3815255</td><td>-14.3629950</td></tr>\n",
       "\t<tr><th scope=row>2015</th><td> -9.9014044</td><td>-20.9682397</td><td> -4.7959083</td><td> -7.3536007</td><td> -7.8932401</td><td>-10.2563598</td><td> -8.6243773</td><td>-12.7849791</td><td>-22.5183356</td><td> -7.3695856</td><td> -3.0030578</td><td> 11.2211717</td></tr>\n",
       "\t<tr><th scope=row>2016</th><td> 10.4860956</td><td>  7.1967603</td><td>  6.1265917</td><td> 11.9026493</td><td> 14.8042599</td><td>  8.1673902</td><td>  3.6902061</td><td> -6.8358124</td><td> -5.6191689</td><td>-10.3041689</td><td>-11.2897245</td><td> -7.3988283</td></tr>\n",
       "\t<tr><th scope=row>2017</th><td> -5.2343210</td><td> -6.7907397</td><td> -2.1504917</td><td> -8.9502674</td><td>-16.2765734</td><td>-11.2526098</td><td> 17.8089561</td><td> 19.3250209</td><td>  9.9066644</td><td> -1.6704189</td><td> -9.8393078</td><td>-13.3646616</td></tr>\n",
       "\t<tr><th scope=row>2018</th><td>-14.5368210</td><td> -0.3415730</td><td> 13.4161750</td><td> 11.6534826</td><td> 11.6505099</td><td> 30.6882235</td><td> 30.9006227</td><td> -6.3153958</td><td>-15.0558356</td><td> -4.2245856</td><td>  2.5148589</td><td> 11.5603384</td></tr>\n",
       "\t<tr><th scope=row>2019</th><td> 22.2060956</td><td>  1.2859270</td><td>-21.1592417</td><td>-23.1890174</td><td>-12.1890734</td><td> -2.5971932</td><td>  7.2956227</td><td> 13.3183542</td><td>  5.1891644</td><td>-24.0066689</td><td>-32.9926411</td><td>-32.3163283</td></tr>\n",
       "\t<tr><th scope=row>2020</th><td>-21.3539044</td><td>-17.2661564</td><td>-10.5254917</td><td>  9.2230659</td><td> 24.7505099</td><td> 20.3857235</td><td>  7.3360394</td><td>  1.5354376</td><td>  8.3033311</td><td> -3.9408356</td><td> -3.6634745</td><td>  0.4753384</td></tr>\n",
       "\t<tr><th scope=row>2021</th><td> 20.3673456</td><td> 35.3409270</td><td> 38.9107583</td><td> 29.5251493</td><td> 19.4459266</td><td> 17.5928068</td><td> -9.1822939</td><td>-50.7183124</td><td>-34.3670856</td><td> -9.3225023</td><td> -0.8688911</td><td> -5.1554950</td></tr>\n",
       "\t<tr><th scope=row>2022</th><td> -1.2534877</td><td> -9.9569897</td><td> -3.3117417</td><td>         NA</td><td>         NA</td><td>         NA</td><td>         NA</td><td>         NA</td><td>         NA</td><td>           </td><td>           </td><td>           </td></tr>\n",
       "</tbody>\n",
       "</table>\n"
      ],
      "text/latex": [
       "A Time Series: 19 × 12\n",
       "\\begin{tabular}{r|llllllllllll}\n",
       "  & Jan & Feb & Mar & Apr & May & Jun & Jul & Aug & Sep & Oct & Nov & Dec\\\\\n",
       "\\hline\n",
       "\t2004 &          NA &          NA &          NA &          NA &          NA &          NA &  -2.6797939 &  -2.4699791 & -10.9116689 & -15.4250023 & -11.1684745 &  -8.1017450\\\\\n",
       "\t2005 &  14.9040123 &  26.3759270 &  21.1770083 &  10.2463993 &  -1.4324067 & -22.6176098 & -24.4281273 &  -4.9883124 &   1.3908311 &  15.0199977 &  13.2694422 &   7.3561717\\\\\n",
       "\t2006 &   8.6894290 &  10.4013436 &  -9.9629917 & -16.1915174 &  -9.7710526 & -11.9805265 & -12.4730231 &  -7.9412291 &  -3.7566689 &   6.6874977 &   2.3398589 &   2.5624217\\\\\n",
       "\t2007 &  10.8194290 &  14.4021770 &  12.2636750 &   1.3497326 &  -7.8341776 & -14.5769551 & -20.6251957 & -27.2790862 & -38.3116094 & -56.7082165 & -96.4249030 & -68.9457926\\\\\n",
       "\t2008 & -32.6078330 &   6.6942007 &  49.5849846 &  93.9499112 & 144.2449742 & 200.5071521 & 124.0446704 &  41.7345447 &  10.9793132 & -56.6426213 & -87.1957959 & -77.8234116\\\\\n",
       "\t2009 & -69.3976544 & -14.8290730 &   6.8328417 &  17.9168159 & -11.0486567 & -23.0292765 & -22.0731273 & -39.4712291 & -36.9531273 & -12.0766689 &  64.3398589 & 104.9920050\\\\\n",
       "\t2010 &  71.4535956 &  11.4588436 & -21.7384083 & -53.0831841 & -63.0757401 & -77.9801098 & -74.6489606 & -11.0033124 &  22.6945811 &  34.8687477 &  50.8481922 &  60.5211717\\\\\n",
       "\t2011 &  21.4706790 &  -3.5390730 & -28.0279917 & -20.9419341 & -36.7169901 & -46.3001098 &   4.6231227 &  43.7362709 &  59.4312477 &  81.6891644 &  68.6061089 &   7.7636717\\\\\n",
       "\t2012 & -31.0168210 & -40.0969897 & -32.6304917 & -15.5452674 & -16.9832401 & -33.2042765 & -26.0335439 &   5.7766876 &  31.0774977 &  32.7137477 &  26.2706922 &  -6.3717450\\\\\n",
       "\t2013 &  -9.9093210 &  -4.6165730 &   0.6215917 &  -7.7152674 & -10.5236567 & -13.1817765 &  -7.6581273 &   5.7329376 & -26.1733356 & -10.2025023 &   4.9936089 &  26.5065884\\\\\n",
       "\t2014 &  13.9327623 &   4.3671770 & -15.5129917 & -33.6302674 & -21.9844901 & -11.1976098 &  11.8452061 &  37.7662709 &  43.8120811 &  40.0324977 &  22.3815255 & -14.3629950\\\\\n",
       "\t2015 &  -9.9014044 & -20.9682397 &  -4.7959083 &  -7.3536007 &  -7.8932401 & -10.2563598 &  -8.6243773 & -12.7849791 & -22.5183356 &  -7.3695856 &  -3.0030578 &  11.2211717\\\\\n",
       "\t2016 &  10.4860956 &   7.1967603 &   6.1265917 &  11.9026493 &  14.8042599 &   8.1673902 &   3.6902061 &  -6.8358124 &  -5.6191689 & -10.3041689 & -11.2897245 &  -7.3988283\\\\\n",
       "\t2017 &  -5.2343210 &  -6.7907397 &  -2.1504917 &  -8.9502674 & -16.2765734 & -11.2526098 &  17.8089561 &  19.3250209 &   9.9066644 &  -1.6704189 &  -9.8393078 & -13.3646616\\\\\n",
       "\t2018 & -14.5368210 &  -0.3415730 &  13.4161750 &  11.6534826 &  11.6505099 &  30.6882235 &  30.9006227 &  -6.3153958 & -15.0558356 &  -4.2245856 &   2.5148589 &  11.5603384\\\\\n",
       "\t2019 &  22.2060956 &   1.2859270 & -21.1592417 & -23.1890174 & -12.1890734 &  -2.5971932 &   7.2956227 &  13.3183542 &   5.1891644 & -24.0066689 & -32.9926411 & -32.3163283\\\\\n",
       "\t2020 & -21.3539044 & -17.2661564 & -10.5254917 &   9.2230659 &  24.7505099 &  20.3857235 &   7.3360394 &   1.5354376 &   8.3033311 &  -3.9408356 &  -3.6634745 &   0.4753384\\\\\n",
       "\t2021 &  20.3673456 &  35.3409270 &  38.9107583 &  29.5251493 &  19.4459266 &  17.5928068 &  -9.1822939 & -50.7183124 & -34.3670856 &  -9.3225023 &  -0.8688911 &  -5.1554950\\\\\n",
       "\t2022 &  -1.2534877 &  -9.9569897 &  -3.3117417 &          NA &          NA &          NA &          NA &          NA &          NA &             &             &            \\\\\n",
       "\\end{tabular}\n"
      ],
      "text/markdown": [
       "\n",
       "A Time Series: 19 × 12\n",
       "\n",
       "| <!--/--> | Jan | Feb | Mar | Apr | May | Jun | Jul | Aug | Sep | Oct | Nov | Dec |\n",
       "|---|---|---|---|---|---|---|---|---|---|---|---|---|\n",
       "| 2004 |          NA |          NA |          NA |          NA |          NA |          NA |  -2.6797939 |  -2.4699791 | -10.9116689 | -15.4250023 | -11.1684745 |  -8.1017450 |\n",
       "| 2005 |  14.9040123 |  26.3759270 |  21.1770083 |  10.2463993 |  -1.4324067 | -22.6176098 | -24.4281273 |  -4.9883124 |   1.3908311 |  15.0199977 |  13.2694422 |   7.3561717 |\n",
       "| 2006 |   8.6894290 |  10.4013436 |  -9.9629917 | -16.1915174 |  -9.7710526 | -11.9805265 | -12.4730231 |  -7.9412291 |  -3.7566689 |   6.6874977 |   2.3398589 |   2.5624217 |\n",
       "| 2007 |  10.8194290 |  14.4021770 |  12.2636750 |   1.3497326 |  -7.8341776 | -14.5769551 | -20.6251957 | -27.2790862 | -38.3116094 | -56.7082165 | -96.4249030 | -68.9457926 |\n",
       "| 2008 | -32.6078330 |   6.6942007 |  49.5849846 |  93.9499112 | 144.2449742 | 200.5071521 | 124.0446704 |  41.7345447 |  10.9793132 | -56.6426213 | -87.1957959 | -77.8234116 |\n",
       "| 2009 | -69.3976544 | -14.8290730 |   6.8328417 |  17.9168159 | -11.0486567 | -23.0292765 | -22.0731273 | -39.4712291 | -36.9531273 | -12.0766689 |  64.3398589 | 104.9920050 |\n",
       "| 2010 |  71.4535956 |  11.4588436 | -21.7384083 | -53.0831841 | -63.0757401 | -77.9801098 | -74.6489606 | -11.0033124 |  22.6945811 |  34.8687477 |  50.8481922 |  60.5211717 |\n",
       "| 2011 |  21.4706790 |  -3.5390730 | -28.0279917 | -20.9419341 | -36.7169901 | -46.3001098 |   4.6231227 |  43.7362709 |  59.4312477 |  81.6891644 |  68.6061089 |   7.7636717 |\n",
       "| 2012 | -31.0168210 | -40.0969897 | -32.6304917 | -15.5452674 | -16.9832401 | -33.2042765 | -26.0335439 |   5.7766876 |  31.0774977 |  32.7137477 |  26.2706922 |  -6.3717450 |\n",
       "| 2013 |  -9.9093210 |  -4.6165730 |   0.6215917 |  -7.7152674 | -10.5236567 | -13.1817765 |  -7.6581273 |   5.7329376 | -26.1733356 | -10.2025023 |   4.9936089 |  26.5065884 |\n",
       "| 2014 |  13.9327623 |   4.3671770 | -15.5129917 | -33.6302674 | -21.9844901 | -11.1976098 |  11.8452061 |  37.7662709 |  43.8120811 |  40.0324977 |  22.3815255 | -14.3629950 |\n",
       "| 2015 |  -9.9014044 | -20.9682397 |  -4.7959083 |  -7.3536007 |  -7.8932401 | -10.2563598 |  -8.6243773 | -12.7849791 | -22.5183356 |  -7.3695856 |  -3.0030578 |  11.2211717 |\n",
       "| 2016 |  10.4860956 |   7.1967603 |   6.1265917 |  11.9026493 |  14.8042599 |   8.1673902 |   3.6902061 |  -6.8358124 |  -5.6191689 | -10.3041689 | -11.2897245 |  -7.3988283 |\n",
       "| 2017 |  -5.2343210 |  -6.7907397 |  -2.1504917 |  -8.9502674 | -16.2765734 | -11.2526098 |  17.8089561 |  19.3250209 |   9.9066644 |  -1.6704189 |  -9.8393078 | -13.3646616 |\n",
       "| 2018 | -14.5368210 |  -0.3415730 |  13.4161750 |  11.6534826 |  11.6505099 |  30.6882235 |  30.9006227 |  -6.3153958 | -15.0558356 |  -4.2245856 |   2.5148589 |  11.5603384 |\n",
       "| 2019 |  22.2060956 |   1.2859270 | -21.1592417 | -23.1890174 | -12.1890734 |  -2.5971932 |   7.2956227 |  13.3183542 |   5.1891644 | -24.0066689 | -32.9926411 | -32.3163283 |\n",
       "| 2020 | -21.3539044 | -17.2661564 | -10.5254917 |   9.2230659 |  24.7505099 |  20.3857235 |   7.3360394 |   1.5354376 |   8.3033311 |  -3.9408356 |  -3.6634745 |   0.4753384 |\n",
       "| 2021 |  20.3673456 |  35.3409270 |  38.9107583 |  29.5251493 |  19.4459266 |  17.5928068 |  -9.1822939 | -50.7183124 | -34.3670856 |  -9.3225023 |  -0.8688911 |  -5.1554950 |\n",
       "| 2022 |  -1.2534877 |  -9.9569897 |  -3.3117417 |          NA |          NA |          NA |          NA |          NA |          NA | <!----> | <!----> | <!----> |\n",
       "\n"
      ],
      "text/plain": [
       "     Jan         Feb         Mar         Apr         May         Jun        \n",
       "2004          NA          NA          NA          NA          NA          NA\n",
       "2005  14.9040123  26.3759270  21.1770083  10.2463993  -1.4324067 -22.6176098\n",
       "2006   8.6894290  10.4013436  -9.9629917 -16.1915174  -9.7710526 -11.9805265\n",
       "2007  10.8194290  14.4021770  12.2636750   1.3497326  -7.8341776 -14.5769551\n",
       "2008 -32.6078330   6.6942007  49.5849846  93.9499112 144.2449742 200.5071521\n",
       "2009 -69.3976544 -14.8290730   6.8328417  17.9168159 -11.0486567 -23.0292765\n",
       "2010  71.4535956  11.4588436 -21.7384083 -53.0831841 -63.0757401 -77.9801098\n",
       "2011  21.4706790  -3.5390730 -28.0279917 -20.9419341 -36.7169901 -46.3001098\n",
       "2012 -31.0168210 -40.0969897 -32.6304917 -15.5452674 -16.9832401 -33.2042765\n",
       "2013  -9.9093210  -4.6165730   0.6215917  -7.7152674 -10.5236567 -13.1817765\n",
       "2014  13.9327623   4.3671770 -15.5129917 -33.6302674 -21.9844901 -11.1976098\n",
       "2015  -9.9014044 -20.9682397  -4.7959083  -7.3536007  -7.8932401 -10.2563598\n",
       "2016  10.4860956   7.1967603   6.1265917  11.9026493  14.8042599   8.1673902\n",
       "2017  -5.2343210  -6.7907397  -2.1504917  -8.9502674 -16.2765734 -11.2526098\n",
       "2018 -14.5368210  -0.3415730  13.4161750  11.6534826  11.6505099  30.6882235\n",
       "2019  22.2060956   1.2859270 -21.1592417 -23.1890174 -12.1890734  -2.5971932\n",
       "2020 -21.3539044 -17.2661564 -10.5254917   9.2230659  24.7505099  20.3857235\n",
       "2021  20.3673456  35.3409270  38.9107583  29.5251493  19.4459266  17.5928068\n",
       "2022  -1.2534877  -9.9569897  -3.3117417          NA          NA          NA\n",
       "     Jul         Aug         Sep         Oct         Nov         Dec        \n",
       "2004  -2.6797939  -2.4699791 -10.9116689 -15.4250023 -11.1684745  -8.1017450\n",
       "2005 -24.4281273  -4.9883124   1.3908311  15.0199977  13.2694422   7.3561717\n",
       "2006 -12.4730231  -7.9412291  -3.7566689   6.6874977   2.3398589   2.5624217\n",
       "2007 -20.6251957 -27.2790862 -38.3116094 -56.7082165 -96.4249030 -68.9457926\n",
       "2008 124.0446704  41.7345447  10.9793132 -56.6426213 -87.1957959 -77.8234116\n",
       "2009 -22.0731273 -39.4712291 -36.9531273 -12.0766689  64.3398589 104.9920050\n",
       "2010 -74.6489606 -11.0033124  22.6945811  34.8687477  50.8481922  60.5211717\n",
       "2011   4.6231227  43.7362709  59.4312477  81.6891644  68.6061089   7.7636717\n",
       "2012 -26.0335439   5.7766876  31.0774977  32.7137477  26.2706922  -6.3717450\n",
       "2013  -7.6581273   5.7329376 -26.1733356 -10.2025023   4.9936089  26.5065884\n",
       "2014  11.8452061  37.7662709  43.8120811  40.0324977  22.3815255 -14.3629950\n",
       "2015  -8.6243773 -12.7849791 -22.5183356  -7.3695856  -3.0030578  11.2211717\n",
       "2016   3.6902061  -6.8358124  -5.6191689 -10.3041689 -11.2897245  -7.3988283\n",
       "2017  17.8089561  19.3250209   9.9066644  -1.6704189  -9.8393078 -13.3646616\n",
       "2018  30.9006227  -6.3153958 -15.0558356  -4.2245856   2.5148589  11.5603384\n",
       "2019   7.2956227  13.3183542   5.1891644 -24.0066689 -32.9926411 -32.3163283\n",
       "2020   7.3360394   1.5354376   8.3033311  -3.9408356  -3.6634745   0.4753384\n",
       "2021  -9.1822939 -50.7183124 -34.3670856  -9.3225023  -0.8688911  -5.1554950\n",
       "2022          NA          NA          NA                                    "
      ]
     },
     "metadata": {},
     "output_type": "display_data"
    }
   ],
   "source": [
    "comp$random"
   ]
  },
  {
   "cell_type": "code",
   "execution_count": 13,
   "id": "8dae31f9-6921-42f8-8485-5ce1e1878d7a",
   "metadata": {},
   "outputs": [
    {
     "data": {
      "image/png": "[encoded data removed]",
      "text/plain": [
       "plot without title"
      ]
     },
     "metadata": {
      "image/png": {
       "height": 420,
       "width": 420
      }
     },
     "output_type": "display_data"
    }
   ],
   "source": [
    "plot(comp)"
   ]
  },
  {
   "cell_type": "markdown",
   "id": "62eb9214-bc09-450b-bdba-1e89a52da3b6",
   "metadata": {},
   "source": [
    "- Nhận xét: Có thể thấy biểu đồ mang tính chất theo mùa"
   ]
  },
  {
   "cell_type": "code",
   "execution_count": 14,
   "id": "6eac4bca-0d46-4adb-84f9-9d18113e85b4",
   "metadata": {},
   "outputs": [
    {
     "data": {
      "text/plain": [
       "Holt-Winters exponential smoothing with trend and additive seasonal component.\n",
       "\n",
       "Call:\n",
       "HoltWinters(x = export.timeseries)\n",
       "\n",
       "Smoothing parameters:\n",
       " alpha: 1\n",
       " beta : 0\n",
       " gamma: 0\n",
       "\n",
       "Coefficients:\n",
       "           [,1]\n",
       "a   405.1413889\n",
       "b     2.2326981\n",
       "s1  -17.7384722\n",
       "s2   -8.4422222\n",
       "s3   -4.2834722\n",
       "s4   11.7319444\n",
       "s5   20.7498611\n",
       "s6   15.7065278\n",
       "s7    9.3711111\n",
       "s8    2.0015278\n",
       "s9  -15.4963889\n",
       "s10   0.4602778\n",
       "s11  -0.6993056\n",
       "s12 -13.3613889"
      ]
     },
     "metadata": {},
     "output_type": "display_data"
    }
   ],
   "source": [
    "# Thực hiện việc dự báo và vẽ biểu đồ so sánh với thực tiễn. Nhận xét.\n",
    "export.timeseries.forecasts <- HoltWinters(export.timeseries)\n",
    "export.timeseries.forecasts"
   ]
  },
  {
   "cell_type": "markdown",
   "id": "0a94543a-861f-4254-8c8a-0265044083fa",
   "metadata": {},
   "source": [
    "- Nhận xét: \n",
    "- alpha = 1: cho thấy giá trị hiện tại phụ thuộc vào các giá trị gần đây và các giá trị trong quá khứ gần\n",
    "- beta = 0: cho thấy độ dốc của trend không cập nhật trong thời gian qua\n",
    "- gamma = 0: cho thấy ảnh hưởng của yếu tố mùa tại thời điểm hiện tại không phụ thuộc vào các giá trị gần"
   ]
  },
  {
   "cell_type": "code",
   "execution_count": 15,
   "id": "37d9f6d3-b296-430c-b89a-a35b0f08fe81",
   "metadata": {},
   "outputs": [
    {
     "data": {
      "image/png": "[encoded data removed]",
      "text/plain": [
       "Plot with title \"Exports: Observer vs Forecast\""
      ]
     },
     "metadata": {
      "image/png": {
       "height": 420,
       "width": 420
      }
     },
     "output_type": "display_data"
    }
   ],
   "source": [
    "plot(export.timeseries.forecasts,\n",
    "     main = 'Exports: Observer vs Forecast',\n",
    "     xlab = 'Year', ylab = 'Export')"
   ]
  },
  {
   "cell_type": "markdown",
   "id": "8a4e6fba-8dbd-4fac-ab83-c54c93f16ba9",
   "metadata": {},
   "source": [
    "- Nhận xét: Forecast model gần khớp với giá trị thực tế"
   ]
  },
  {
   "cell_type": "code",
   "execution_count": 16,
   "id": "887d4470-4758-44d6-a581-f231c47a3b94",
   "metadata": {},
   "outputs": [
    {
     "name": "stderr",
     "output_type": "stream",
     "text": [
      "Registered S3 method overwritten by 'quantmod':\n",
      "  method            from\n",
      "  as.zoo.data.frame zoo \n",
      "\n"
     ]
    }
   ],
   "source": [
    "library(forecast)"
   ]
  },
  {
   "cell_type": "code",
   "execution_count": 17,
   "id": "ebd570f4-a6f7-4090-8097-88e7b1a45544",
   "metadata": {},
   "outputs": [
    {
     "data": {
      "text/plain": [
       "         Point Forecast    Lo 80    Hi 80    Lo 95    Hi 95\n",
       "Oct 2022       389.6356 354.8473 424.4239 336.4315 442.8397\n",
       "Nov 2022       401.1646 351.9665 450.3627 325.9226 476.4066\n",
       "Dec 2022       407.5560 347.3009 467.8111 315.4037 499.7083\n",
       "Jan 2023       425.8041 356.2275 495.3808 319.3959 532.2124\n",
       "Feb 2023       437.0547 359.2657 514.8438 318.0867 556.0228\n",
       "Mar 2023       434.2441 349.0305 519.4577 303.9211 564.5671\n",
       "Apr 2023       430.1414 338.1002 522.1826 289.3765 570.9063\n",
       "May 2023       425.0045 326.6083 523.4007 274.5205 575.4885\n",
       "Jun 2023       409.7393 305.3743 514.1042 250.1269 569.3517\n",
       "Jul 2023       427.9286 317.9183 537.9390 259.6824 596.1749\n",
       "Aug 2023       429.0018 313.6220 544.3815 252.5436 605.4599\n",
       "Sep 2023       418.5724 298.0621 539.0826 234.2678 602.8769"
      ]
     },
     "metadata": {},
     "output_type": "display_data"
    }
   ],
   "source": [
    "# Dự đoán giá gạo cho 12 tháng tiếp theo.\n",
    "export.timeseries.forecasts2 <- forecast:::forecast.HoltWinters(export.timeseries.forecasts, h = 12)\n",
    "export.timeseries.forecasts2"
   ]
  },
  {
   "cell_type": "code",
   "execution_count": 18,
   "id": "971878e8-a05a-403c-8ad2-8b279a97a08a",
   "metadata": {},
   "outputs": [
    {
     "data": {
      "image/png": "[encoded data removed]",
      "text/plain": [
       "Plot with title \"Exports: Forecast for the next 12 months\""
      ]
     },
     "metadata": {
      "image/png": {
       "height": 420,
       "width": 420
      }
     },
     "output_type": "display_data"
    }
   ],
   "source": [
    "plot(export.timeseries.forecasts2, main = 'Exports: Forecast for the next 12 months',\n",
    "     xlab = 'Year', ylab = 'Export')"
   ]
  },
  {
   "cell_type": "code",
   "execution_count": 19,
   "id": "9f0dc699-4f21-46b8-bbf2-2c6c0376d007",
   "metadata": {},
   "outputs": [
    {
     "data": {
      "text/html": [
       "<table class=\"dataframe\">\n",
       "<caption>A data.frame: 12 × 5</caption>\n",
       "<thead>\n",
       "\t<tr><th></th><th scope=col>Point.Forecast</th><th scope=col>Lo.80</th><th scope=col>Hi.80</th><th scope=col>Lo.95</th><th scope=col>Hi.95</th></tr>\n",
       "\t<tr><th></th><th scope=col>&lt;dbl&gt;</th><th scope=col>&lt;dbl&gt;</th><th scope=col>&lt;dbl&gt;</th><th scope=col>&lt;dbl&gt;</th><th scope=col>&lt;dbl&gt;</th></tr>\n",
       "</thead>\n",
       "<tbody>\n",
       "\t<tr><th scope=row>Oct 2022</th><td>389.6356</td><td>354.8473</td><td>424.4239</td><td>336.4315</td><td>442.8397</td></tr>\n",
       "\t<tr><th scope=row>Nov 2022</th><td>401.1646</td><td>351.9665</td><td>450.3627</td><td>325.9226</td><td>476.4066</td></tr>\n",
       "\t<tr><th scope=row>Dec 2022</th><td>407.5560</td><td>347.3009</td><td>467.8111</td><td>315.4037</td><td>499.7083</td></tr>\n",
       "\t<tr><th scope=row>Jan 2023</th><td>425.8041</td><td>356.2275</td><td>495.3808</td><td>319.3959</td><td>532.2124</td></tr>\n",
       "\t<tr><th scope=row>Feb 2023</th><td>437.0547</td><td>359.2657</td><td>514.8438</td><td>318.0867</td><td>556.0228</td></tr>\n",
       "\t<tr><th scope=row>Mar 2023</th><td>434.2441</td><td>349.0305</td><td>519.4577</td><td>303.9211</td><td>564.5671</td></tr>\n",
       "\t<tr><th scope=row>Apr 2023</th><td>430.1414</td><td>338.1002</td><td>522.1826</td><td>289.3765</td><td>570.9063</td></tr>\n",
       "\t<tr><th scope=row>May 2023</th><td>425.0045</td><td>326.6083</td><td>523.4007</td><td>274.5205</td><td>575.4885</td></tr>\n",
       "\t<tr><th scope=row>Jun 2023</th><td>409.7393</td><td>305.3743</td><td>514.1042</td><td>250.1269</td><td>569.3517</td></tr>\n",
       "\t<tr><th scope=row>Jul 2023</th><td>427.9286</td><td>317.9183</td><td>537.9390</td><td>259.6824</td><td>596.1749</td></tr>\n",
       "\t<tr><th scope=row>Aug 2023</th><td>429.0018</td><td>313.6220</td><td>544.3815</td><td>252.5436</td><td>605.4599</td></tr>\n",
       "\t<tr><th scope=row>Sep 2023</th><td>418.5724</td><td>298.0621</td><td>539.0826</td><td>234.2678</td><td>602.8769</td></tr>\n",
       "</tbody>\n",
       "</table>\n"
      ],
      "text/latex": [
       "A data.frame: 12 × 5\n",
       "\\begin{tabular}{r|lllll}\n",
       "  & Point.Forecast & Lo.80 & Hi.80 & Lo.95 & Hi.95\\\\\n",
       "  & <dbl> & <dbl> & <dbl> & <dbl> & <dbl>\\\\\n",
       "\\hline\n",
       "\tOct 2022 & 389.6356 & 354.8473 & 424.4239 & 336.4315 & 442.8397\\\\\n",
       "\tNov 2022 & 401.1646 & 351.9665 & 450.3627 & 325.9226 & 476.4066\\\\\n",
       "\tDec 2022 & 407.5560 & 347.3009 & 467.8111 & 315.4037 & 499.7083\\\\\n",
       "\tJan 2023 & 425.8041 & 356.2275 & 495.3808 & 319.3959 & 532.2124\\\\\n",
       "\tFeb 2023 & 437.0547 & 359.2657 & 514.8438 & 318.0867 & 556.0228\\\\\n",
       "\tMar 2023 & 434.2441 & 349.0305 & 519.4577 & 303.9211 & 564.5671\\\\\n",
       "\tApr 2023 & 430.1414 & 338.1002 & 522.1826 & 289.3765 & 570.9063\\\\\n",
       "\tMay 2023 & 425.0045 & 326.6083 & 523.4007 & 274.5205 & 575.4885\\\\\n",
       "\tJun 2023 & 409.7393 & 305.3743 & 514.1042 & 250.1269 & 569.3517\\\\\n",
       "\tJul 2023 & 427.9286 & 317.9183 & 537.9390 & 259.6824 & 596.1749\\\\\n",
       "\tAug 2023 & 429.0018 & 313.6220 & 544.3815 & 252.5436 & 605.4599\\\\\n",
       "\tSep 2023 & 418.5724 & 298.0621 & 539.0826 & 234.2678 & 602.8769\\\\\n",
       "\\end{tabular}\n"
      ],
      "text/markdown": [
       "\n",
       "A data.frame: 12 × 5\n",
       "\n",
       "| <!--/--> | Point.Forecast &lt;dbl&gt; | Lo.80 &lt;dbl&gt; | Hi.80 &lt;dbl&gt; | Lo.95 &lt;dbl&gt; | Hi.95 &lt;dbl&gt; |\n",
       "|---|---|---|---|---|---|\n",
       "| Oct 2022 | 389.6356 | 354.8473 | 424.4239 | 336.4315 | 442.8397 |\n",
       "| Nov 2022 | 401.1646 | 351.9665 | 450.3627 | 325.9226 | 476.4066 |\n",
       "| Dec 2022 | 407.5560 | 347.3009 | 467.8111 | 315.4037 | 499.7083 |\n",
       "| Jan 2023 | 425.8041 | 356.2275 | 495.3808 | 319.3959 | 532.2124 |\n",
       "| Feb 2023 | 437.0547 | 359.2657 | 514.8438 | 318.0867 | 556.0228 |\n",
       "| Mar 2023 | 434.2441 | 349.0305 | 519.4577 | 303.9211 | 564.5671 |\n",
       "| Apr 2023 | 430.1414 | 338.1002 | 522.1826 | 289.3765 | 570.9063 |\n",
       "| May 2023 | 425.0045 | 326.6083 | 523.4007 | 274.5205 | 575.4885 |\n",
       "| Jun 2023 | 409.7393 | 305.3743 | 514.1042 | 250.1269 | 569.3517 |\n",
       "| Jul 2023 | 427.9286 | 317.9183 | 537.9390 | 259.6824 | 596.1749 |\n",
       "| Aug 2023 | 429.0018 | 313.6220 | 544.3815 | 252.5436 | 605.4599 |\n",
       "| Sep 2023 | 418.5724 | 298.0621 | 539.0826 | 234.2678 | 602.8769 |\n",
       "\n"
      ],
      "text/plain": [
       "         Point.Forecast Lo.80    Hi.80    Lo.95    Hi.95   \n",
       "Oct 2022 389.6356       354.8473 424.4239 336.4315 442.8397\n",
       "Nov 2022 401.1646       351.9665 450.3627 325.9226 476.4066\n",
       "Dec 2022 407.5560       347.3009 467.8111 315.4037 499.7083\n",
       "Jan 2023 425.8041       356.2275 495.3808 319.3959 532.2124\n",
       "Feb 2023 437.0547       359.2657 514.8438 318.0867 556.0228\n",
       "Mar 2023 434.2441       349.0305 519.4577 303.9211 564.5671\n",
       "Apr 2023 430.1414       338.1002 522.1826 289.3765 570.9063\n",
       "May 2023 425.0045       326.6083 523.4007 274.5205 575.4885\n",
       "Jun 2023 409.7393       305.3743 514.1042 250.1269 569.3517\n",
       "Jul 2023 427.9286       317.9183 537.9390 259.6824 596.1749\n",
       "Aug 2023 429.0018       313.6220 544.3815 252.5436 605.4599\n",
       "Sep 2023 418.5724       298.0621 539.0826 234.2678 602.8769"
      ]
     },
     "metadata": {},
     "output_type": "display_data"
    }
   ],
   "source": [
    "x = data.frame(export.timeseries.forecasts2)\n",
    "x"
   ]
  },
  {
   "cell_type": "code",
   "execution_count": 20,
   "id": "d7d86dad-5f96-476a-a8bc-358cd8ada709",
   "metadata": {},
   "outputs": [
    {
     "data": {
      "text/html": [
       "<table class=\"dataframe\">\n",
       "<caption>A data.frame: 12 × 6</caption>\n",
       "<thead>\n",
       "\t<tr><th></th><th scope=col>Point.Forecast</th><th scope=col>Lo.80</th><th scope=col>Hi.80</th><th scope=col>Lo.95</th><th scope=col>Hi.95</th><th scope=col>Forecast</th></tr>\n",
       "\t<tr><th></th><th scope=col>&lt;dbl&gt;</th><th scope=col>&lt;dbl&gt;</th><th scope=col>&lt;dbl&gt;</th><th scope=col>&lt;dbl&gt;</th><th scope=col>&lt;dbl&gt;</th><th scope=col>&lt;dbl&gt;</th></tr>\n",
       "</thead>\n",
       "<tbody>\n",
       "\t<tr><th scope=row>Oct 2022</th><td>389.6356</td><td>354.8473</td><td>424.4239</td><td>336.4315</td><td>442.8397</td><td>1.646635e+169</td></tr>\n",
       "\t<tr><th scope=row>Nov 2022</th><td>401.1646</td><td>351.9665</td><td>450.3627</td><td>325.9226</td><td>476.4066</td><td>1.673231e+174</td></tr>\n",
       "\t<tr><th scope=row>Dec 2022</th><td>407.5560</td><td>347.3009</td><td>467.8111</td><td>315.4037</td><td>499.7083</td><td>9.984508e+176</td></tr>\n",
       "\t<tr><th scope=row>Jan 2023</th><td>425.8041</td><td>356.2275</td><td>495.3808</td><td>319.3959</td><td>532.2124</td><td>8.401992e+184</td></tr>\n",
       "\t<tr><th scope=row>Feb 2023</th><td>437.0547</td><td>359.2657</td><td>514.8438</td><td>318.0867</td><td>556.0228</td><td>6.463417e+189</td></tr>\n",
       "\t<tr><th scope=row>Mar 2023</th><td>434.2441</td><td>349.0305</td><td>519.4577</td><td>303.9211</td><td>564.5671</td><td>3.888829e+188</td></tr>\n",
       "\t<tr><th scope=row>Apr 2023</th><td>430.1414</td><td>338.1002</td><td>522.1826</td><td>289.3765</td><td>570.9063</td><td>6.427333e+186</td></tr>\n",
       "\t<tr><th scope=row>May 2023</th><td>425.0045</td><td>326.6083</td><td>523.4007</td><td>274.5205</td><td>575.4885</td><td>3.776677e+184</td></tr>\n",
       "\t<tr><th scope=row>Jun 2023</th><td>409.7393</td><td>305.3743</td><td>514.1042</td><td>250.1269</td><td>569.3517</td><td>8.861551e+177</td></tr>\n",
       "\t<tr><th scope=row>Jul 2023</th><td>427.9286</td><td>317.9183</td><td>537.9390</td><td>259.6824</td><td>596.1749</td><td>7.031541e+185</td></tr>\n",
       "\t<tr><th scope=row>Aug 2023</th><td>429.0018</td><td>313.6220</td><td>544.3815</td><td>252.5436</td><td>605.4599</td><td>2.056356e+186</td></tr>\n",
       "\t<tr><th scope=row>Sep 2023</th><td>418.5724</td><td>298.0621</td><td>539.0826</td><td>234.2678</td><td>602.8769</td><td>6.076785e+181</td></tr>\n",
       "</tbody>\n",
       "</table>\n"
      ],
      "text/latex": [
       "A data.frame: 12 × 6\n",
       "\\begin{tabular}{r|llllll}\n",
       "  & Point.Forecast & Lo.80 & Hi.80 & Lo.95 & Hi.95 & Forecast\\\\\n",
       "  & <dbl> & <dbl> & <dbl> & <dbl> & <dbl> & <dbl>\\\\\n",
       "\\hline\n",
       "\tOct 2022 & 389.6356 & 354.8473 & 424.4239 & 336.4315 & 442.8397 & 1.646635e+169\\\\\n",
       "\tNov 2022 & 401.1646 & 351.9665 & 450.3627 & 325.9226 & 476.4066 & 1.673231e+174\\\\\n",
       "\tDec 2022 & 407.5560 & 347.3009 & 467.8111 & 315.4037 & 499.7083 & 9.984508e+176\\\\\n",
       "\tJan 2023 & 425.8041 & 356.2275 & 495.3808 & 319.3959 & 532.2124 & 8.401992e+184\\\\\n",
       "\tFeb 2023 & 437.0547 & 359.2657 & 514.8438 & 318.0867 & 556.0228 & 6.463417e+189\\\\\n",
       "\tMar 2023 & 434.2441 & 349.0305 & 519.4577 & 303.9211 & 564.5671 & 3.888829e+188\\\\\n",
       "\tApr 2023 & 430.1414 & 338.1002 & 522.1826 & 289.3765 & 570.9063 & 6.427333e+186\\\\\n",
       "\tMay 2023 & 425.0045 & 326.6083 & 523.4007 & 274.5205 & 575.4885 & 3.776677e+184\\\\\n",
       "\tJun 2023 & 409.7393 & 305.3743 & 514.1042 & 250.1269 & 569.3517 & 8.861551e+177\\\\\n",
       "\tJul 2023 & 427.9286 & 317.9183 & 537.9390 & 259.6824 & 596.1749 & 7.031541e+185\\\\\n",
       "\tAug 2023 & 429.0018 & 313.6220 & 544.3815 & 252.5436 & 605.4599 & 2.056356e+186\\\\\n",
       "\tSep 2023 & 418.5724 & 298.0621 & 539.0826 & 234.2678 & 602.8769 & 6.076785e+181\\\\\n",
       "\\end{tabular}\n"
      ],
      "text/markdown": [
       "\n",
       "A data.frame: 12 × 6\n",
       "\n",
       "| <!--/--> | Point.Forecast &lt;dbl&gt; | Lo.80 &lt;dbl&gt; | Hi.80 &lt;dbl&gt; | Lo.95 &lt;dbl&gt; | Hi.95 &lt;dbl&gt; | Forecast &lt;dbl&gt; |\n",
       "|---|---|---|---|---|---|---|\n",
       "| Oct 2022 | 389.6356 | 354.8473 | 424.4239 | 336.4315 | 442.8397 | 1.646635e+169 |\n",
       "| Nov 2022 | 401.1646 | 351.9665 | 450.3627 | 325.9226 | 476.4066 | 1.673231e+174 |\n",
       "| Dec 2022 | 407.5560 | 347.3009 | 467.8111 | 315.4037 | 499.7083 | 9.984508e+176 |\n",
       "| Jan 2023 | 425.8041 | 356.2275 | 495.3808 | 319.3959 | 532.2124 | 8.401992e+184 |\n",
       "| Feb 2023 | 437.0547 | 359.2657 | 514.8438 | 318.0867 | 556.0228 | 6.463417e+189 |\n",
       "| Mar 2023 | 434.2441 | 349.0305 | 519.4577 | 303.9211 | 564.5671 | 3.888829e+188 |\n",
       "| Apr 2023 | 430.1414 | 338.1002 | 522.1826 | 289.3765 | 570.9063 | 6.427333e+186 |\n",
       "| May 2023 | 425.0045 | 326.6083 | 523.4007 | 274.5205 | 575.4885 | 3.776677e+184 |\n",
       "| Jun 2023 | 409.7393 | 305.3743 | 514.1042 | 250.1269 | 569.3517 | 8.861551e+177 |\n",
       "| Jul 2023 | 427.9286 | 317.9183 | 537.9390 | 259.6824 | 596.1749 | 7.031541e+185 |\n",
       "| Aug 2023 | 429.0018 | 313.6220 | 544.3815 | 252.5436 | 605.4599 | 2.056356e+186 |\n",
       "| Sep 2023 | 418.5724 | 298.0621 | 539.0826 | 234.2678 | 602.8769 | 6.076785e+181 |\n",
       "\n"
      ],
      "text/plain": [
       "         Point.Forecast Lo.80    Hi.80    Lo.95    Hi.95    Forecast     \n",
       "Oct 2022 389.6356       354.8473 424.4239 336.4315 442.8397 1.646635e+169\n",
       "Nov 2022 401.1646       351.9665 450.3627 325.9226 476.4066 1.673231e+174\n",
       "Dec 2022 407.5560       347.3009 467.8111 315.4037 499.7083 9.984508e+176\n",
       "Jan 2023 425.8041       356.2275 495.3808 319.3959 532.2124 8.401992e+184\n",
       "Feb 2023 437.0547       359.2657 514.8438 318.0867 556.0228 6.463417e+189\n",
       "Mar 2023 434.2441       349.0305 519.4577 303.9211 564.5671 3.888829e+188\n",
       "Apr 2023 430.1414       338.1002 522.1826 289.3765 570.9063 6.427333e+186\n",
       "May 2023 425.0045       326.6083 523.4007 274.5205 575.4885 3.776677e+184\n",
       "Jun 2023 409.7393       305.3743 514.1042 250.1269 569.3517 8.861551e+177\n",
       "Jul 2023 427.9286       317.9183 537.9390 259.6824 596.1749 7.031541e+185\n",
       "Aug 2023 429.0018       313.6220 544.3815 252.5436 605.4599 2.056356e+186\n",
       "Sep 2023 418.5724       298.0621 539.0826 234.2678 602.8769 6.076785e+181"
      ]
     },
     "metadata": {},
     "output_type": "display_data"
    }
   ],
   "source": [
    "x$Forecast = exp(x$Point.Forecast)\n",
    "x"
   ]
  },
  {
   "cell_type": "code",
   "execution_count": null,
   "id": "7058d162-8997-4dd9-b7fe-39b040e9f2ef",
   "metadata": {},
   "outputs": [],
   "source": []
  }
 ],
 "metadata": {
  "kernelspec": {
   "display_name": "R",
   "language": "R",
   "name": "ir"
  },
  "language_info": {
   "codemirror_mode": "r",
   "file_extension": ".r",
   "mimetype": "text/x-r-source",
   "name": "R",
   "pygments_lexer": "r",
   "version": "4.2.2"
  }
 },
 "nbformat": 4,
 "nbformat_minor": 5
}
